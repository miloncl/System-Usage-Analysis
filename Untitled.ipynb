{
 "cells": [
  {
   "cell_type": "code",
   "execution_count": 1,
   "id": "5e23be04",
   "metadata": {},
   "outputs": [],
   "source": [
    "import numpy as np"
   ]
  },
  {
   "cell_type": "markdown",
   "id": "809bb605",
   "metadata": {},
   "source": [
    "## 2a"
   ]
  },
  {
   "cell_type": "code",
   "execution_count": 4,
   "id": "5149a4db",
   "metadata": {},
   "outputs": [],
   "source": [
    "def phi (val):\n",
    "    return [1, val[0]**2, val[1]**2, np.sqrt(2) * val[0], np.sqrt(2) * val[1], np.sqrt(2) * val[0] * val[1]]"
   ]
  },
  {
   "cell_type": "code",
   "execution_count": 27,
   "id": "c0635172",
   "metadata": {},
   "outputs": [
    {
     "data": {
      "text/plain": [
       "matrix([[ 1.        ,  0.        ,  4.        ,  0.        ,  2.82842712,\n",
       "          0.        ],\n",
       "        [ 1.        ,  1.        ,  0.        ,  1.41421356,  0.        ,\n",
       "          0.        ],\n",
       "        [ 1.        ,  0.        ,  4.        ,  0.        , -2.82842712,\n",
       "         -0.        ],\n",
       "        [ 1.        ,  1.        ,  0.        , -1.41421356,  0.        ,\n",
       "         -0.        ],\n",
       "        [ 1.        ,  0.        ,  0.        ,  0.        ,  0.        ,\n",
       "          0.        ]])"
      ]
     },
     "execution_count": 27,
     "metadata": {},
     "output_type": "execute_result"
    }
   ],
   "source": [
    "phi_matrix = np.matrix([phi([0, 2]), phi([1, 0]), phi([0, -2]), phi([-1, 0]), phi([0, 0])])\n",
    "phi_matrix"
   ]
  },
  {
   "cell_type": "code",
   "execution_count": 28,
   "id": "a34c451a",
   "metadata": {},
   "outputs": [
    {
     "data": {
      "text/plain": [
       "matrix([[ 1],\n",
       "        [ 1],\n",
       "        [ 1],\n",
       "        [ 1],\n",
       "        [-1]])"
      ]
     },
     "execution_count": 28,
     "metadata": {},
     "output_type": "execute_result"
    }
   ],
   "source": [
    "y_hat = np.matrix([1, 1, 1, 1, -1]).T\n",
    "y_hat"
   ]
  },
  {
   "cell_type": "code",
   "execution_count": 29,
   "id": "1fdbdac2",
   "metadata": {},
   "outputs": [
    {
     "data": {
      "text/plain": [
       "matrix([[0.08695652],\n",
       "        [0.15217391],\n",
       "        [0.17391304],\n",
       "        [0.        ],\n",
       "        [0.        ],\n",
       "        [0.        ]])"
      ]
     },
     "execution_count": 29,
     "metadata": {},
     "output_type": "execute_result"
    }
   ],
   "source": [
    "w =  (phi_matrix.T * phi_matrix + 5 * 2 * np.identity(6))**-1 * phi_matrix.T * y_hat\n",
    "w"
   ]
  },
  {
   "cell_type": "markdown",
   "id": "41d0d433",
   "metadata": {},
   "source": [
    "## 2b"
   ]
  },
  {
   "cell_type": "code",
   "execution_count": 84,
   "id": "27065cc9",
   "metadata": {},
   "outputs": [
    {
     "data": {
      "text/plain": [
       "matrix([[0.41304348]])"
      ]
     },
     "execution_count": 84,
     "metadata": {},
     "output_type": "execute_result"
    }
   ],
   "source": [
    "h1_x = phi([1, 1]) * w\n",
    "h1_x"
   ]
  },
  {
   "cell_type": "markdown",
   "id": "414c2cc6",
   "metadata": {},
   "source": [
    "## 2c"
   ]
  },
  {
   "cell_type": "code",
   "execution_count": 49,
   "id": "6a2d8bff",
   "metadata": {},
   "outputs": [],
   "source": [
    "def kernal(x, x1):\n",
    "    x = np.matrix([x[0], x[1]])\n",
    "    x1 = np.matrix([x1[0], x1[1]]).T\n",
    "    return (1 + x * x1)**2"
   ]
  },
  {
   "cell_type": "code",
   "execution_count": 85,
   "id": "58042de2",
   "metadata": {},
   "outputs": [
    {
     "data": {
      "text/plain": [
       "matrix([[9]])"
      ]
     },
     "execution_count": 85,
     "metadata": {},
     "output_type": "execute_result"
    }
   ],
   "source": [
    "kernal([1,1], [0,2])"
   ]
  },
  {
   "cell_type": "code",
   "execution_count": 81,
   "id": "f3cff140",
   "metadata": {},
   "outputs": [],
   "source": [
    "kernal_matrix = np.matrix([[25, 1, 9, 1, 1], \n",
    "                         [1, 4, 1, 0, 1], \n",
    "                         [9, 1, 25, 1, 1], \n",
    "                         [1, 0, 1, 4, 1], \n",
    "                         [1, 1, 1, 1, 1]])"
   ]
  },
  {
   "cell_type": "markdown",
   "id": "636edef9",
   "metadata": {},
   "source": [
    "## 2d"
   ]
  },
  {
   "cell_type": "code",
   "execution_count": 83,
   "id": "2d3cd060",
   "metadata": {},
   "outputs": [
    {
     "data": {
      "text/plain": [
       "matrix([[ 0.02173913],\n",
       "        [ 0.07608696],\n",
       "        [ 0.02173913],\n",
       "        [ 0.07608696],\n",
       "        [-0.10869565]])"
      ]
     },
     "execution_count": 83,
     "metadata": {},
     "output_type": "execute_result"
    }
   ],
   "source": [
    "alpha = (kernal_matrix + 2 * 5 * np.identity(5))**-1 * y_hat\n",
    "alpha"
   ]
  },
  {
   "cell_type": "markdown",
   "id": "28d14aa8",
   "metadata": {},
   "source": [
    "## 2e"
   ]
  },
  {
   "cell_type": "code",
   "execution_count": 90,
   "id": "2c6b2bb2",
   "metadata": {},
   "outputs": [
    {
     "data": {
      "text/plain": [
       "matrix([[1]])"
      ]
     },
     "execution_count": 90,
     "metadata": {},
     "output_type": "execute_result"
    }
   ],
   "source": [
    "kernal([1,1], [0,0])"
   ]
  },
  {
   "cell_type": "code",
   "execution_count": 91,
   "id": "19d79089",
   "metadata": {},
   "outputs": [
    {
     "data": {
      "text/plain": [
       "matrix([[0.41304348]])"
      ]
     },
     "execution_count": 91,
     "metadata": {},
     "output_type": "execute_result"
    }
   ],
   "source": [
    "h2_x = (alpha[0] * 9) + (alpha[1] * 4) + (alpha[2] * 1) + (alpha[3] * 0) + (alpha[4] * 1)\n",
    "h2_x"
   ]
  },
  {
   "cell_type": "code",
   "execution_count": 92,
   "id": "6279b1d0",
   "metadata": {},
   "outputs": [
    {
     "data": {
      "text/plain": [
       "matrix([[0.41304348]])"
      ]
     },
     "execution_count": 92,
     "metadata": {},
     "output_type": "execute_result"
    }
   ],
   "source": [
    "h1_x"
   ]
  },
  {
   "cell_type": "markdown",
   "id": "efc4438a",
   "metadata": {},
   "source": [
    "### It is clear that H1_x and H2_x are the same"
   ]
  },
  {
   "cell_type": "code",
   "execution_count": null,
   "id": "f0ab5753",
   "metadata": {},
   "outputs": [],
   "source": []
  }
 ],
 "metadata": {
  "kernelspec": {
   "display_name": "Python 3 (ipykernel)",
   "language": "python",
   "name": "python3"
  },
  "language_info": {
   "codemirror_mode": {
    "name": "ipython",
    "version": 3
   },
   "file_extension": ".py",
   "mimetype": "text/x-python",
   "name": "python",
   "nbconvert_exporter": "python",
   "pygments_lexer": "ipython3",
   "version": "3.10.6"
  }
 },
 "nbformat": 4,
 "nbformat_minor": 5
}
