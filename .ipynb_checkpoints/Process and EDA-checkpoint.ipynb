{
 "cells": [
  {
   "cell_type": "code",
   "execution_count": 16,
   "id": "f1c91dd8",
   "metadata": {},
   "outputs": [],
   "source": [
    "import os\n",
    "import json\n",
    "import sqlite3\n",
    "\n",
    "import pandas as pd"
   ]
  },
  {
   "cell_type": "code",
   "execution_count": 17,
   "id": "ff366aad",
   "metadata": {},
   "outputs": [],
   "source": [
    "filepath = 'data/'"
   ]
  },
  {
   "cell_type": "code",
   "execution_count": 33,
   "id": "8464e1cb",
   "metadata": {},
   "outputs": [],
   "source": [
    "data = []\n",
    "\n",
    "for filename in os.listdir(filepath):\n",
    "    cnx = sqlite3.connect(filepath + filename)\n",
    "    df_string = pd.read_sql_query(\"SELECT * FROM COUNTERS_STRING_TIME_DATA\", cnx)\n",
    "    data.append(pd.DataFrame(df_string))"
   ]
  },
  {
   "cell_type": "code",
   "execution_count": 34,
   "id": "c9e9025b",
   "metadata": {},
   "outputs": [],
   "source": [
    "df = pd.concat(data, ignore_index = True)"
   ]
  },
  {
   "cell_type": "code",
   "execution_count": 40,
   "id": "4a8197a9",
   "metadata": {},
   "outputs": [],
   "source": [
    "df['MEASUREMENT_TIME'] = pd.to_datetime(df['MEASUREMENT_TIME'])\n",
    "df['PRIVATE_DATA'] = df['PRIVATE_DATA'].astype(int)\n",
    "df['VALUE'] = df['VALUE'].str.lower()"
   ]
  },
  {
   "cell_type": "code",
   "execution_count": 41,
   "id": "794dbba9",
   "metadata": {},
   "outputs": [
    {
     "data": {
      "text/plain": [
       "MEASUREMENT_TIME    datetime64[ns]\n",
       "ID_INPUT                     int64\n",
       "VALUE                       object\n",
       "PRIVATE_DATA                 int64\n",
       "dtype: object"
      ]
     },
     "execution_count": 41,
     "metadata": {},
     "output_type": "execute_result"
    }
   ],
   "source": [
    "df.dtypes"
   ]
  },
  {
   "cell_type": "code",
   "execution_count": 42,
   "id": "96ee9004",
   "metadata": {},
   "outputs": [
    {
     "data": {
      "text/html": [
       "<div>\n",
       "<style scoped>\n",
       "    .dataframe tbody tr th:only-of-type {\n",
       "        vertical-align: middle;\n",
       "    }\n",
       "\n",
       "    .dataframe tbody tr th {\n",
       "        vertical-align: top;\n",
       "    }\n",
       "\n",
       "    .dataframe thead th {\n",
       "        text-align: right;\n",
       "    }\n",
       "</style>\n",
       "<table border=\"1\" class=\"dataframe\">\n",
       "  <thead>\n",
       "    <tr style=\"text-align: right;\">\n",
       "      <th></th>\n",
       "      <th>MEASUREMENT_TIME</th>\n",
       "      <th>ID_INPUT</th>\n",
       "      <th>VALUE</th>\n",
       "      <th>PRIVATE_DATA</th>\n",
       "    </tr>\n",
       "  </thead>\n",
       "  <tbody>\n",
       "    <tr>\n",
       "      <th>0</th>\n",
       "      <td>2023-01-15 18:20:31.552</td>\n",
       "      <td>3</td>\n",
       "      <td>esrv.exe</td>\n",
       "      <td>0</td>\n",
       "    </tr>\n",
       "    <tr>\n",
       "      <th>1</th>\n",
       "      <td>2023-01-15 18:20:31.552</td>\n",
       "      <td>4</td>\n",
       "      <td>vsdebugconsole.exe</td>\n",
       "      <td>0</td>\n",
       "    </tr>\n",
       "    <tr>\n",
       "      <th>2</th>\n",
       "      <td>2023-01-15 18:20:31.552</td>\n",
       "      <td>5</td>\n",
       "      <td>consolewindowclass</td>\n",
       "      <td>0</td>\n",
       "    </tr>\n",
       "    <tr>\n",
       "      <th>3</th>\n",
       "      <td>2023-01-15 18:20:33.574</td>\n",
       "      <td>3</td>\n",
       "      <td>downloads</td>\n",
       "      <td>0</td>\n",
       "    </tr>\n",
       "    <tr>\n",
       "      <th>4</th>\n",
       "      <td>2023-01-15 18:20:33.575</td>\n",
       "      <td>4</td>\n",
       "      <td>explorer.exe</td>\n",
       "      <td>0</td>\n",
       "    </tr>\n",
       "    <tr>\n",
       "      <th>...</th>\n",
       "      <td>...</td>\n",
       "      <td>...</td>\n",
       "      <td>...</td>\n",
       "      <td>...</td>\n",
       "    </tr>\n",
       "    <tr>\n",
       "      <th>976</th>\n",
       "      <td>2023-01-16 02:18:08.317</td>\n",
       "      <td>4</td>\n",
       "      <td>msedge.exe</td>\n",
       "      <td>0</td>\n",
       "    </tr>\n",
       "    <tr>\n",
       "      <th>977</th>\n",
       "      <td>2023-01-16 02:18:08.317</td>\n",
       "      <td>5</td>\n",
       "      <td>chrome_widgetwin_1</td>\n",
       "      <td>0</td>\n",
       "    </tr>\n",
       "    <tr>\n",
       "      <th>978</th>\n",
       "      <td>2023-01-16 03:19:47.080</td>\n",
       "      <td>3</td>\n",
       "      <td>esrv.exe</td>\n",
       "      <td>0</td>\n",
       "    </tr>\n",
       "    <tr>\n",
       "      <th>979</th>\n",
       "      <td>2023-01-16 03:19:47.080</td>\n",
       "      <td>4</td>\n",
       "      <td>vsdebugconsole.exe</td>\n",
       "      <td>0</td>\n",
       "    </tr>\n",
       "    <tr>\n",
       "      <th>980</th>\n",
       "      <td>2023-01-16 03:19:47.080</td>\n",
       "      <td>5</td>\n",
       "      <td>consolewindowclass</td>\n",
       "      <td>0</td>\n",
       "    </tr>\n",
       "  </tbody>\n",
       "</table>\n",
       "<p>981 rows × 4 columns</p>\n",
       "</div>"
      ],
      "text/plain": [
       "           MEASUREMENT_TIME  ID_INPUT               VALUE  PRIVATE_DATA\n",
       "0   2023-01-15 18:20:31.552         3            esrv.exe             0\n",
       "1   2023-01-15 18:20:31.552         4  vsdebugconsole.exe             0\n",
       "2   2023-01-15 18:20:31.552         5  consolewindowclass             0\n",
       "3   2023-01-15 18:20:33.574         3           downloads             0\n",
       "4   2023-01-15 18:20:33.575         4        explorer.exe             0\n",
       "..                      ...       ...                 ...           ...\n",
       "976 2023-01-16 02:18:08.317         4          msedge.exe             0\n",
       "977 2023-01-16 02:18:08.317         5  chrome_widgetwin_1             0\n",
       "978 2023-01-16 03:19:47.080         3            esrv.exe             0\n",
       "979 2023-01-16 03:19:47.080         4  vsdebugconsole.exe             0\n",
       "980 2023-01-16 03:19:47.080         5  consolewindowclass             0\n",
       "\n",
       "[981 rows x 4 columns]"
      ]
     },
     "execution_count": 42,
     "metadata": {},
     "output_type": "execute_result"
    }
   ],
   "source": [
    "df"
   ]
  },
  {
   "cell_type": "code",
   "execution_count": null,
   "id": "476969a2",
   "metadata": {},
   "outputs": [],
   "source": []
  }
 ],
 "metadata": {
  "kernelspec": {
   "display_name": "Python 3 (ipykernel)",
   "language": "python",
   "name": "python3"
  },
  "language_info": {
   "codemirror_mode": {
    "name": "ipython",
    "version": 3
   },
   "file_extension": ".py",
   "mimetype": "text/x-python",
   "name": "python",
   "nbconvert_exporter": "python",
   "pygments_lexer": "ipython3",
   "version": "3.10.6"
  }
 },
 "nbformat": 4,
 "nbformat_minor": 5
}
