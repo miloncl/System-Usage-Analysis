{
 "cells": [
  {
   "cell_type": "code",
   "execution_count": 1,
   "id": "edca6048",
   "metadata": {},
   "outputs": [],
   "source": [
    "import pandas as pd\n",
    "import matplotlib as plt"
   ]
  },
  {
   "cell_type": "code",
   "execution_count": 2,
   "id": "bcb3f779",
   "metadata": {},
   "outputs": [],
   "source": [
    "df = pd.read_csv('dataUser2.csv')"
   ]
  },
  {
   "cell_type": "code",
   "execution_count": 27,
   "id": "c1a95604",
   "metadata": {},
   "outputs": [],
   "source": []
  },
  {
   "cell_type": "code",
   "execution_count": null,
   "id": "0c76a306",
   "metadata": {},
   "outputs": [],
   "source": []
  },
  {
   "cell_type": "code",
   "execution_count": 3,
   "id": "955b9d9d",
   "metadata": {},
   "outputs": [
    {
     "data": {
      "text/plain": [
       "chrome.exe                   235\n",
       "explorer.exe                 175\n",
       "VsDebugConsole.exe           100\n",
       "Messenger.exe                 84\n",
       "DB Browser for SQLite.exe     72\n",
       "Unable To Open Process        46\n",
       "devenv.exe                    46\n",
       "Teams.exe                     43\n",
       "ApplicationFrameHost.exe      30\n",
       "SearchHost.exe                26\n",
       "Zoom.exe                      23\n",
       "cmd.exe                       21\n",
       "msedge.exe                    20\n",
       "ShellExperienceHost.exe       12\n",
       "Spotify.exe                    8\n",
       "msteams.exe                    6\n",
       "MoNotificationUx.exe           3\n",
       "Docker Desktop.exe             3\n",
       "CredentialUIBroker.exe         2\n",
       "msiexec.exe                    2\n",
       "Acrobat.exe                    2\n",
       "Git-2.39.1-64-bit.tmp          1\n",
       "python-3.11.1-amd64.exe        1\n",
       "OneDrive.exe                   1\n",
       "winzip64.exe                   1\n",
       "ScreenClippingHost.exe         1\n",
       "PickerHost.exe                 1\n",
       "rundll32.exe                   1\n",
       "conhost.exe                    1\n",
       "LockApp.exe                    1\n",
       "Widgets.exe                    1\n",
       "Name: VALUE, dtype: int64"
      ]
     },
     "execution_count": 3,
     "metadata": {},
     "output_type": "execute_result"
    }
   ],
   "source": [
    "df[df['ID_INPUT'] == 4]['VALUE'].value_counts()"
   ]
  },
  {
   "cell_type": "code",
   "execution_count": 10,
   "id": "5449e6cc",
   "metadata": {},
   "outputs": [],
   "source": [
    "def predict_HMM(df):\n",
    "    \n",
    "    def get_data(df):\n",
    "            \n",
    "        return df[df['ID_INPUT'] == 4].drop(columns = ['Unnamed: 0']).reset_index(drop = True)\n",
    "    \n",
    "    #return get_data(df)\n",
    "    "
   ]
  },
  {
   "cell_type": "code",
   "execution_count": 13,
   "id": "69e80d5c",
   "metadata": {},
   "outputs": [
    {
     "data": {
      "text/plain": [
       "chrome.exe                   235\n",
       "explorer.exe                 175\n",
       "VsDebugConsole.exe           100\n",
       "Messenger.exe                 84\n",
       "DB Browser for SQLite.exe     72\n",
       "Unable To Open Process        46\n",
       "devenv.exe                    46\n",
       "Teams.exe                     43\n",
       "ApplicationFrameHost.exe      30\n",
       "SearchHost.exe                26\n",
       "Zoom.exe                      23\n",
       "cmd.exe                       21\n",
       "msedge.exe                    20\n",
       "ShellExperienceHost.exe       12\n",
       "Spotify.exe                    8\n",
       "msteams.exe                    6\n",
       "MoNotificationUx.exe           3\n",
       "Docker Desktop.exe             3\n",
       "CredentialUIBroker.exe         2\n",
       "msiexec.exe                    2\n",
       "Acrobat.exe                    2\n",
       "Git-2.39.1-64-bit.tmp          1\n",
       "python-3.11.1-amd64.exe        1\n",
       "OneDrive.exe                   1\n",
       "winzip64.exe                   1\n",
       "ScreenClippingHost.exe         1\n",
       "PickerHost.exe                 1\n",
       "rundll32.exe                   1\n",
       "conhost.exe                    1\n",
       "LockApp.exe                    1\n",
       "Widgets.exe                    1\n",
       "Name: VALUE, dtype: int64"
      ]
     },
     "execution_count": 13,
     "metadata": {},
     "output_type": "execute_result"
    }
   ],
   "source": [
    "predict_HMM(df)['VALUE'].value_counts()"
   ]
  },
  {
   "cell_type": "code",
   "execution_count": null,
   "id": "393d39fe",
   "metadata": {},
   "outputs": [],
   "source": []
  }
 ],
 "metadata": {
  "kernelspec": {
   "display_name": "Python 3 (ipykernel)",
   "language": "python",
   "name": "python3"
  },
  "language_info": {
   "codemirror_mode": {
    "name": "ipython",
    "version": 3
   },
   "file_extension": ".py",
   "mimetype": "text/x-python",
   "name": "python",
   "nbconvert_exporter": "python",
   "pygments_lexer": "ipython3",
   "version": "3.11.1"
  }
 },
 "nbformat": 4,
 "nbformat_minor": 5
}
