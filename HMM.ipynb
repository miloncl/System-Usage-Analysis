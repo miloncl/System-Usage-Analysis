{
 "cells": [
  {
   "cell_type": "markdown",
   "id": "ff740f23",
   "metadata": {},
   "source": [
    "# Setup"
   ]
  },
  {
   "cell_type": "code",
   "execution_count": 56,
   "id": "edca6048",
   "metadata": {},
   "outputs": [],
   "source": [
    "import os\n",
    "import json\n",
    "import random\n",
    "import sqlite3\n",
    "\n",
    "import pandas as pd\n",
    "import numpy as np\n",
    "\n",
    "from sklearn.model_selection import train_test_split\n",
    "from collections import defaultdict\n",
    "\n",
    "import matplotlib as plt"
   ]
  },
  {
   "cell_type": "markdown",
   "id": "bf517ca5",
   "metadata": {},
   "source": [
    "# Data Loading"
   ]
  },
  {
   "cell_type": "code",
   "execution_count": 49,
   "id": "bcb3f779",
   "metadata": {},
   "outputs": [],
   "source": [
    "df = pd.read_csv('dataUser2.csv') # may be changed into user 2"
   ]
  },
  {
   "cell_type": "code",
   "execution_count": 50,
   "id": "29ede67c",
   "metadata": {},
   "outputs": [],
   "source": [
    "df2 = pd.read_csv('dataUser2.csv') "
   ]
  },
  {
   "cell_type": "markdown",
   "id": "50c5fd65",
   "metadata": {},
   "source": [
    "# Data Preprocessing for HMM's Transition Matrix"
   ]
  },
  {
   "cell_type": "code",
   "execution_count": 59,
   "id": "c1a95604",
   "metadata": {},
   "outputs": [],
   "source": [
    "def get_clean_data(df):\n",
    "    \"\"\"Get only the column containing the exe files\"\"\"\n",
    "    return df[df['ID_INPUT'] == 4].drop(columns = ['Unnamed: 0']).reset_index(drop = True)\n",
    "\n",
    "def get_all_pairs(df):\n",
    "    \"\"\"Get pairs of exe files happening next to each other\"\"\"\n",
    "    pairs = [('S0', df.iloc[0]['VALUE'])] # initial pair would be (delimiter, first exe)\n",
    "    #pairs = []\n",
    "    for index in range(len(df) - 1):\n",
    "        pair = (df.iloc[index]['VALUE'], df.iloc[index+1]['VALUE'])\n",
    "        pairs.append(pair)       \n",
    "    return pairs\n",
    "\n",
    "def split_train_test(pairs, state):\n",
    "    \"\"\"Split train/test sets by a ratio of 80/20\"\"\"\n",
    "    X = [x[0] for x in pairs] # x[0] is ~ the \"current\" exe file\n",
    "    y = [x[1] for x in pairs] # x[1] is the \"next\" exe file\n",
    "    X_train, X_test, y_train, y_test = train_test_split(X, y, test_size=0.2, random_state=state)\n",
    "    return [X_train, y_train, X_test, y_test]"
   ]
  },
  {
   "cell_type": "markdown",
   "id": "901d227e",
   "metadata": {},
   "source": [
    "# Transition Matrix\n",
    "- Firstly, we find the frequencies of all pairs of exe files via the function *get_pair_frequency*\n",
    "- Using such information, we can find the transition probability"
   ]
  },
  {
   "cell_type": "code",
   "execution_count": 52,
   "id": "a3f827f4",
   "metadata": {},
   "outputs": [],
   "source": [
    "def get_pair_frequency(X, y):\n",
    "    \"\"\"Get the frequency of the pairs of exe files that happen next to each other\"\"\"\n",
    "    pair_freq = defaultdict(int)\n",
    "    for index in range(len(X)):\n",
    "        pair = (X[index], y[index])\n",
    "        pair_freq[pair] += 1\n",
    "    return pair_freq\n",
    "\n",
    "def get_transition_probability(pair_freq, X):\n",
    "    \"\"\"Get the transition probability, for ex: from chrome.exe --> cmd.exe,\n",
    "       P(cmd.exe | chrome.exe) = P(chrome.exe, cmd.exe) / P(chrome.exe)\n",
    "                               = (# chrome.exe and cmd.exe) / (# all occurrences of chrome.exe)\n",
    "                               = (pair occurrences) / (# all occurrences of chrome.exe)\n",
    "    \"\"\"\n",
    "    transition_prob = defaultdict(int)\n",
    "    for pair in pair_freq:\n",
    "        total_occ = sum([x == pair[0] for x in X])\n",
    "        transition_prob[pair] += pair_freq[pair] / total_occ\n",
    "    return transition_prob"
   ]
  },
  {
   "cell_type": "markdown",
   "id": "f3f7aa9f",
   "metadata": {},
   "source": [
    "- Now, we create the transition matrix"
   ]
  },
  {
   "cell_type": "code",
   "execution_count": 53,
   "id": "2ae503d0",
   "metadata": {},
   "outputs": [],
   "source": [
    "def get_unique_states(X):\n",
    "    \"\"\"Get the unique executables (i.e. the \"states\" in HMM)\"\"\"\n",
    "    return np.unique(X)\n",
    "    \n",
    "def get_transition_matrix(trans_prob, X):\n",
    "    \"\"\"Create the transition matrix\"\"\"\n",
    "    all_exes = get_unique_states(X)\n",
    "    probs_for_matrix = []\n",
    "    for row in all_exes:\n",
    "        exe_probs = []\n",
    "        for col in all_exes:\n",
    "            pair = (row, col)\n",
    "            if pair in trans_prob:\n",
    "                exe_probs.append(trans_prob[pair])\n",
    "            else:\n",
    "                exe_probs.append(0)\n",
    "        probs_for_matrix.append(exe_probs)\n",
    "    \n",
    "    matrix = pd.DataFrame(probs_for_matrix, index = all_exes, columns = all_exes)\n",
    "    return matrix"
   ]
  },
  {
   "cell_type": "markdown",
   "id": "cf9f1a80",
   "metadata": {},
   "source": [
    "# HMM Model + Accuracy"
   ]
  },
  {
   "cell_type": "code",
   "execution_count": 124,
   "id": "ad8c4202",
   "metadata": {},
   "outputs": [],
   "source": [
    "def get_n_next_app(n, matrix, app):\n",
    "    \"\"\" Find n next apps whose immediate previous app is \"app\" \"\"\"\n",
    "    matrix = matrix.T\n",
    "    if app in matrix.columns:\n",
    "        top_vals = matrix.nlargest(n, app).index # nlargest: Return the first n rows ordered by columns in descending order.\n",
    "        return top_vals\n",
    "    else:\n",
    "        return ['chrome.exe'] # if app not in matrix return the most common app\n",
    "\n",
    "def get_accuracy(X, y, matrix, n):\n",
    "    \"\"\"Accuracy of the HMM model\"\"\"\n",
    "    preds = []\n",
    "    for i in range(len(X)):\n",
    "        pred = get_n_next_app(n, matrix, X[i])\n",
    "        if y[i] in pred:\n",
    "            preds.append(1)\n",
    "        else:\n",
    "            preds.append(0)        \n",
    "    return sum(preds)/ len(preds)\n",
    "\n",
    "def predict_HMM(df, n, rand_state):\n",
    "    \"\"\"Put everything together for the HMM model\"\"\"\n",
    "    df = get_clean_data(df)\n",
    "    all_pairs = get_all_pairs(df)\n",
    "    \n",
    "    X_tr, y_tr, X_test, y_test = split_train_test(all_pairs, rand_state)\n",
    "    pair_freq = get_pair_frequency(X_tr, y_tr)\n",
    "    transition_prob = get_transition_probability(pair_freq, X_tr)\n",
    "    transition_matrix = get_transition_matrix(transition_prob, X_tr)\n",
    "    \n",
    "    accuracy = get_accuracy(X_test, y_test, transition_matrix, n)\n",
    "    return [transition_matrix, accuracy]\n",
    "\n",
    "def save_to_file(matrix, outfile_name, outfile_ext = 'csv'):\n",
    "    \"\"\"Save matrices to files after finding them\"\"\"\n",
    "    out = outfile_name + '.' + outfile_ext\n",
    "    matrix.to_csv(out, index=True)\n",
    "    "
   ]
  },
  {
   "cell_type": "markdown",
   "id": "4abde323",
   "metadata": {},
   "source": [
    "# Sample Runs of Transition Matrix and Accuracy"
   ]
  },
  {
   "cell_type": "markdown",
   "id": "6ecc0b42",
   "metadata": {},
   "source": [
    "### For user 2"
   ]
  },
  {
   "cell_type": "code",
   "execution_count": 67,
   "id": "e9864340",
   "metadata": {},
   "outputs": [
    {
     "name": "stdout",
     "output_type": "stream",
     "text": [
      "0.3711340206185567\n"
     ]
    }
   ],
   "source": [
    "matrix2, accuracy2 = predict_HMM(df2, n=1, rand_state=20)\n",
    "print(accuracy2)"
   ]
  },
  {
   "cell_type": "code",
   "execution_count": 40,
   "id": "92011268",
   "metadata": {},
   "outputs": [
    {
     "name": "stdout",
     "output_type": "stream",
     "text": [
      "0.4896907216494845\n"
     ]
    }
   ],
   "source": [
    "matrix2, accuracy2 = predict_HMM(df2, 2)\n",
    "print(accuracy2)"
   ]
  },
  {
   "cell_type": "code",
   "execution_count": 31,
   "id": "2544f5c5",
   "metadata": {},
   "outputs": [
    {
     "name": "stdout",
     "output_type": "stream",
     "text": [
      "0.4690721649484536\n"
     ]
    }
   ],
   "source": [
    "matrix2, accuracy2 = predict_HMM(df2, 5)\n",
    "print(accuracy2)"
   ]
  },
  {
   "cell_type": "code",
   "execution_count": 30,
   "id": "7a766aa1",
   "metadata": {},
   "outputs": [
    {
     "name": "stdout",
     "output_type": "stream",
     "text": [
      "0.8814432989690721\n"
     ]
    }
   ],
   "source": [
    "matrix2, accuracy2 = predict_HMM(df2, 10)\n",
    "print(accuracy2)"
   ]
  },
  {
   "cell_type": "code",
   "execution_count": 32,
   "id": "071bab5d",
   "metadata": {},
   "outputs": [
    {
     "name": "stdout",
     "output_type": "stream",
     "text": [
      "0.9123711340206185\n"
     ]
    }
   ],
   "source": [
    "matrix2, accuracy2 = predict_HMM(df2, 15)\n",
    "print(accuracy2)"
   ]
  },
  {
   "cell_type": "markdown",
   "id": "f968ff35",
   "metadata": {},
   "source": [
    "# Extra Credit: Emission Matrix\n",
    "\n",
    "# Data Preprocessing for Emission Matrix"
   ]
  },
  {
   "cell_type": "code",
   "execution_count": 119,
   "id": "0e54f64c",
   "metadata": {},
   "outputs": [],
   "source": [
    "def get_clean_data_for_tabs(df):\n",
    "    \"\"\"Clean the tab names by removing PIIs\"\"\"\n",
    "    # Get data and clean Missing Strings\n",
    "    df = df[df['ID_INPUT']== 3]\n",
    "    lst = df['VALUE'].apply(lambda r: \"File Explorer\" if r == \"Missing String.\" else r).tolist()\n",
    "\n",
    "    arr = []\n",
    "    indx = []\n",
    "    # Find list items that are associated w/ Google Chrome\n",
    "    for item in lst:\n",
    "        if (\"Google Chrome\" in item) or (\"google chrome\" in item):\n",
    "            arr.append(item)\n",
    "            indx.append(lst.index(item))\n",
    "    \n",
    "    twos = [] # list of 2 items in a tab name (ex: 'Online C Compiler - Google Chrome')\n",
    "    threes = [] # list of 3 items in a tab name (ex: 'Process and EDA - Jupyter Notebook - Google Chrome')\n",
    "    fours = [] # list of 4 items in a tab name (ex: 'Dsc 180B - Quarter 2 Week 2 - Google Slides - Google Chrome')\n",
    "    fives = [] # list of 5 items in a tab name (ex: currently none)\n",
    "    sixes = [] # list of 6 items in a tab name (ex: 'DSC 140A - Probabilistic Modeling and ML - LE [A00] - Course Podcasts - UC San Diego - Google Chrome')\n",
    "    # Find lists of k items in tab names\n",
    "    for item in arr:\n",
    "        x = item.split(\"-\")\n",
    "        if len(x) == 2:\n",
    "            twos.append(item)\n",
    "        elif(len(x) == 3):\n",
    "            threes.append(item)\n",
    "        elif(len(x) == 4):\n",
    "            fours.append(item)\n",
    "        elif(len(x) == 5):\n",
    "            fives.append(item)\n",
    "        else:\n",
    "            sixes.append(item)\n",
    "\n",
    "    splits = []\n",
    "    # Conduct the splits\n",
    "    for item in arr:\n",
    "        x = item.split('-')\n",
    "        if(len(x) == 1):\n",
    "            splits.append(item)\n",
    "        elif(len(x) in [2,3,4]):\n",
    "            splits.append(x[len(x)-2] + \"-\" + x[len(x)-1])\n",
    "        else:\n",
    "            splits.append(x[len(x)-3] + \"-\" + x[len(x)-2] + \"-\" + x[len(x)-1])\n",
    "    \n",
    "\n",
    "    changed_items = []\n",
    "    # Get all the items with their processed names\n",
    "    for item in splits:\n",
    "        changed_items.append(item.strip())\n",
    "\n",
    "    x = []\n",
    "    count = 0\n",
    "    # Apply the changes into the real dataframe column\n",
    "    for item in lst:\n",
    "        if (\"Google Chrome\" in item) or (\"google chrome\" in item):\n",
    "            x.append(changed_items[count])\n",
    "            count = count +1\n",
    "        else:\n",
    "            x.append(item)\n",
    "    \n",
    "    df = df.assign(VALUE = x)\n",
    "\n",
    "    return df"
   ]
  },
  {
   "cell_type": "code",
   "execution_count": 120,
   "id": "c6816162",
   "metadata": {},
   "outputs": [],
   "source": [
    "df2_processed = get_clean_data_for_tabs(df2)"
   ]
  },
  {
   "cell_type": "markdown",
   "id": "5afb6f7a",
   "metadata": {},
   "source": [
    "# Emission Matrix"
   ]
  },
  {
   "cell_type": "markdown",
   "id": "7ba75166",
   "metadata": {},
   "source": []
  }
 ],
 "metadata": {
  "kernelspec": {
   "display_name": "Python 3 (ipykernel)",
   "language": "python",
   "name": "python3"
  },
  "language_info": {
   "codemirror_mode": {
    "name": "ipython",
    "version": 3
   },
   "file_extension": ".py",
   "mimetype": "text/x-python",
   "name": "python",
   "nbconvert_exporter": "python",
   "pygments_lexer": "ipython3",
   "version": "3.11.1"
  },
  "vscode": {
   "interpreter": {
    "hash": "ad2bdc8ecc057115af97d19610ffacc2b4e99fae6737bb82f5d7fb13d2f2c186"
   }
  }
 },
 "nbformat": 4,
 "nbformat_minor": 5
}
