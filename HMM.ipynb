{
 "cells": [
  {
   "attachments": {},
   "cell_type": "markdown",
   "id": "ff740f23",
   "metadata": {},
   "source": [
    "# Setup"
   ]
  },
  {
   "cell_type": "code",
   "execution_count": 4,
   "id": "edca6048",
   "metadata": {},
   "outputs": [],
   "source": [
    "import os\n",
    "import json\n",
    "import sqlite3\n",
    "\n",
    "import pandas as pd\n",
    "import numpy as np\n",
    "\n",
    "from sklearn.model_selection import train_test_split\n",
    "from collections import defaultdict\n",
    "\n",
    "import matplotlib as plt"
   ]
  },
  {
   "attachments": {},
   "cell_type": "markdown",
   "id": "bf517ca5",
   "metadata": {},
   "source": [
    "# Data Loading"
   ]
  },
  {
   "cell_type": "code",
   "execution_count": 5,
   "id": "bcb3f779",
   "metadata": {},
   "outputs": [],
   "source": [
    "df = pd.read_csv('dataUser2.csv') # may be changed into user 2"
   ]
  },
  {
   "cell_type": "code",
   "execution_count": null,
   "id": "29ede67c",
   "metadata": {},
   "outputs": [],
   "source": [
    "df2 = pd.read_csv('dataUser2.csv') "
   ]
  },
  {
   "attachments": {},
   "cell_type": "markdown",
   "id": "50c5fd65",
   "metadata": {},
   "source": [
    "# Data Preprocessing\n",
    "- For the calculation of HMM's transition matrix"
   ]
  },
  {
   "cell_type": "code",
   "execution_count": 15,
   "id": "c1a95604",
   "metadata": {},
   "outputs": [],
   "source": [
    "def get_clean_data(df):\n",
    "    \"\"\"Get only the column containing the exe files\"\"\"\n",
    "    return df[df['ID_INPUT'] == 4].drop(columns = ['Unnamed: 0']).reset_index(drop = True)\n",
    "\n",
    "def get_all_pairs(df):\n",
    "    \"\"\"Get pairs of exe files happening next to each other\"\"\"\n",
    "    pairs = [('S0', df.iloc[0]['VALUE'])] # initial pair would be (delimiter, first exe)\n",
    "    for index in range(len(df) - 1):\n",
    "        pair = (df.iloc[index]['VALUE'], df.iloc[index+1]['VALUE'])\n",
    "        pairs.append(pair)       \n",
    "    return pairs\n",
    "\n",
    "def split_train_test(pairs):\n",
    "    \"\"\"Split train/test sets by a ratio of 80/20\"\"\"\n",
    "    X = [x[0] for x in pairs] # x[0] is ~ the \"current\" exe file\n",
    "    y = [x[1] for x in pairs] # x[1] is the \"next\" exe file\n",
    "    X_train, X_test, y_train, y_test = train_test_split(X, y, test_size=0.2)\n",
    "    return [X_train, y_train, X_test, y_test]"
   ]
  },
  {
   "attachments": {},
   "cell_type": "markdown",
   "id": "901d227e",
   "metadata": {},
   "source": [
    "# Transition Matrix\n",
    "- Firstly, we find the frequencies of all pairs of exe files via the function *get_pair_frequency*\n",
    "- Using such information, we can find the transition probability"
   ]
  },
  {
   "cell_type": "code",
   "execution_count": 16,
   "id": "a3f827f4",
   "metadata": {},
   "outputs": [],
   "source": [
    "def get_pair_frequency(X, y):\n",
    "    \"\"\"Get the frequency of the pairs of exe files that happen next to each other\"\"\"\n",
    "    pair_freq = defaultdict(int)\n",
    "    for index in range(len(X)):\n",
    "        pair = (X[index], y[index])\n",
    "        pair_freq[pair] += 1\n",
    "    return pair_freq\n",
    "\n",
    "def get_transition_probability(pair_freq, X):\n",
    "    \"\"\"Get the transition probability, for ex: from chrome.exe --> cmd.exe,\n",
    "       P(cmd.exe | chrome.exe) = P(chrome.exe, cmd.exe) / P(chrome.exe)\n",
    "                               = (# chrome.exe and cmd.exe) / (# all occurrences of chrome.exe)\n",
    "                               = (pair occurrences) / (# all occurrences of chrome.exe)\n",
    "    \"\"\"\n",
    "    transition_prob = defaultdict(int)\n",
    "    for pair in pair_freq:\n",
    "        total_occ = sum([x == pair[0] for x in X])\n",
    "        transition_prob[pair] += pair_freq[pair] / total_occ\n",
    "    return transition_prob"
   ]
  },
  {
   "attachments": {},
   "cell_type": "markdown",
   "id": "f3f7aa9f",
   "metadata": {},
   "source": [
    "- Now, we create the transition matrix"
   ]
  },
  {
   "cell_type": "code",
   "execution_count": 17,
   "id": "2ae503d0",
   "metadata": {},
   "outputs": [],
   "source": [
    "def get_unique_states(X):\n",
    "    \"\"\"Get the unique executables (i.e. the \"states\" in HMM)\"\"\"\n",
    "    return np.unique(X)\n",
    "    \n",
    "def get_transition_matrix(trans_prob, X):\n",
    "    \"\"\"Create the transition matrix\"\"\"\n",
    "    all_exes = get_unique_states(X)\n",
    "    probs_for_matrix = []\n",
    "    for col in all_exes:\n",
    "        exe_probs = []\n",
    "        for row in all_exes:\n",
    "            pair = (row, col)\n",
    "            if pair in trans_prob:\n",
    "                exe_probs.append(trans_prob[pair])\n",
    "            else:\n",
    "                exe_probs.append(0)\n",
    "        probs_for_matrix.append(exe_probs)\n",
    "    \n",
    "    matrix = pd.DataFrame(probs_for_matrix, index = all_exes, columns = all_exes)\n",
    "    return matrix"
   ]
  },
  {
   "attachments": {},
   "cell_type": "markdown",
   "id": "cf9f1a80",
   "metadata": {},
   "source": [
    "# HMM Model + Accuracy"
   ]
  },
  {
   "cell_type": "code",
   "execution_count": null,
   "id": "ad8c4202",
   "metadata": {},
   "outputs": [],
   "source": [
    "def get_n_next_app(n, matrix, app):\n",
    "    \"\"\" Find the next n apps whose immediate previous app is \"app\" \"\"\"\n",
    "    if app in matrix.columns:\n",
    "        top_vals = matrix.nlargest(n, app).index # nlargest: Return the first n rows ordered by columns in descending order.\n",
    "        return top_vals\n",
    "    else:\n",
    "        return ['chrome.exe'] # if app not in matrix return the most common app\n",
    "\n",
    "def get_accuracy(X, y, matrix, n):\n",
    "    \"\"\"Accuracy of the HMM model\"\"\"\n",
    "    preds = []\n",
    "    for i in range(len(X)):\n",
    "        pred = get_n_next_app(n, matrix, X[i])\n",
    "        if y[i] in pred:\n",
    "            preds.append(1)\n",
    "        else:\n",
    "            preds.append(0)        \n",
    "    return sum(preds)/ len(preds)\n",
    "\n",
    "def predict_HMM(df, n):\n",
    "    \"\"\"Put everything together for the HMM model\"\"\"\n",
    "    df = get_clean_data(df)\n",
    "    all_pairs = get_all_pairs(df)\n",
    "    \n",
    "    X_tr, y_tr, X_test, y_test = split_train_test(all_pairs)\n",
    "    pair_freq = get_pair_frequency(X_tr, y_tr)\n",
    "    transition_prob = get_transition_probability(pair_freq, X_tr)\n",
    "    transition_matrix = get_transition_matrix(transition_prob, X_tr)\n",
    "    \n",
    "    accuracy = get_accuracy(X_test, y_test, transition_matrix, n)\n",
    "    return [transition_matrix, accuracy]"
   ]
  },
  {
   "cell_type": "code",
   "execution_count": null,
   "id": "f4fd6bc6",
   "metadata": {},
   "outputs": [],
   "source": []
  },
  {
   "cell_type": "code",
   "execution_count": null,
   "id": "3b495ccb",
   "metadata": {},
   "outputs": [],
   "source": []
  },
  {
   "cell_type": "code",
   "execution_count": null,
   "id": "57e5c291",
   "metadata": {},
   "outputs": [],
   "source": [
    "def get_accuracy(X, y, matrix, n):\n",
    "    preds = []\n",
    "    for i in range(len(X)):\n",
    "        pred = get_n_next_app(n, matrix, X[i])\n",
    "        if y[i] in pred:\n",
    "            preds.append(1)\n",
    "        else:\n",
    "            preds.append(0)\n",
    "            \n",
    "    return sum(preds)/ len(preds)\n",
    "        "
   ]
  },
  {
   "cell_type": "code",
   "execution_count": null,
   "id": "d5d40a1d",
   "metadata": {},
   "outputs": [],
   "source": []
  },
  {
   "attachments": {},
   "cell_type": "markdown",
   "id": "8966e38a",
   "metadata": {},
   "source": [
    "### Feedback for Milon: \n",
    "\n",
    "0/. Good job on creating the code for the transition probs/matrices as well as accuracy. Pls see the below feedbacks for reasons behind my adjustment in the code\n",
    "\n",
    "1/. \n",
    "\n",
    "```\n",
    "def get_conditional_prob(df):\n",
    "    conditional_prob = df[df['ID_INPUT'] == 4]['VALUE'].value_counts() / len(df[df['ID_INPUT'] == 4])\n",
    "    return conditional_prob\n",
    "```\n",
    "\n",
    "- this is not the formula of conditional probability (i.e. there's no \"given\" term, which is represented by this symbol |)\n",
    "- this is just a regular probability of appearance of an executable file over all possible executables\n",
    "\n",
    "2/. for split_train_test: test size = 20% (you put 30%)\n",
    "\n",
    "3/. \n",
    "\n",
    "```\n",
    "def get_transitional_matrix(trans_prob, X):\n",
    "    all_exes = get_unique_states(X)\n",
    "    probs_for_matrix = []\n",
    "    for col in all_exes:\n",
    "        exe_probs = []\n",
    "        for row in all_exes:\n",
    "            pair = (col, row)\n",
    "            if pair in trans_prob:\n",
    "                exe_probs.append(trans_prob[pair])\n",
    "            else:\n",
    "                exe_probs.append(0)\n",
    "        probs_for_matrix.append(exe_probs)\n",
    "    \n",
    "    matrix = pd.DataFrame(probs_for_matrix, index = all_exes, columns = all_exes)\n",
    "    return matrix\n",
    "```\n",
    "- note that: the transition probability is going from row to col ==> row happens first, then col happens later ==> pair should be pair = (row,col), but you put pair=(col,row)\n",
    "\n",
    "4/. Just terminology: transitional prob/matrix maybe the correct grammar, but let's just put transition probability/matrix due to the mathematical aspect.\n",
    "\n",
    "5/. \n",
    "``` \n",
    "matrix = matrix.T\n",
    "```\n",
    "- maybe you didn't notice, but matrix and matrix.T have the same row/col order b/c you basically using the same sequence of exe files to create both the rows and cols (see the matrix output)\n",
    "\n",
    "6/. typo in the return of HMM\n",
    "- transition_matrix, not matrix"
   ]
  },
  {
   "cell_type": "markdown",
   "id": "6ab4273b",
   "metadata": {},
   "source": []
  }
 ],
 "metadata": {
  "kernelspec": {
   "display_name": "base",
   "language": "python",
   "name": "python3"
  },
  "language_info": {
   "codemirror_mode": {
    "name": "ipython",
    "version": 3
   },
   "file_extension": ".py",
   "mimetype": "text/x-python",
   "name": "python",
   "nbconvert_exporter": "python",
   "pygments_lexer": "ipython3",
   "version": "3.7.6"
  },
  "vscode": {
   "interpreter": {
    "hash": "ad2bdc8ecc057115af97d19610ffacc2b4e99fae6737bb82f5d7fb13d2f2c186"
   }
  }
 },
 "nbformat": 4,
 "nbformat_minor": 5
}
