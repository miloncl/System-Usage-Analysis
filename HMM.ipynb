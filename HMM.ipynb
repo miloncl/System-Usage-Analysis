{
 "cells": [
  {
   "attachments": {},
   "cell_type": "markdown",
   "id": "ff740f23",
   "metadata": {},
   "source": [
    "# Setup"
   ]
  },
  {
   "cell_type": "code",
   "execution_count": 4,
   "id": "edca6048",
   "metadata": {},
   "outputs": [],
   "source": [
    "import os\n",
    "import json\n",
    "import sqlite3\n",
    "\n",
    "import pandas as pd\n",
    "import numpy as np\n",
    "\n",
    "from sklearn.model_selection import train_test_split\n",
    "from collections import defaultdict\n",
    "\n",
    "import matplotlib as plt"
   ]
  },
  {
   "attachments": {},
   "cell_type": "markdown",
   "id": "bf517ca5",
   "metadata": {},
   "source": [
    "# Data Loading"
   ]
  },
  {
   "cell_type": "code",
   "execution_count": 5,
   "id": "bcb3f779",
   "metadata": {},
   "outputs": [],
   "source": [
    "df = pd.read_csv('dataUser2.csv') # may be changed into user 2"
   ]
  },
  {
   "cell_type": "code",
   "execution_count": null,
   "id": "29ede67c",
   "metadata": {},
   "outputs": [],
   "source": [
    "df2 = pd.read_csv('dataUser2.csv') "
   ]
  },
  {
   "cell_type": "code",
   "execution_count": 6,
   "id": "c1a95604",
   "metadata": {},
   "outputs": [],
   "source": [
    "def get_clean_data(df):\n",
    "    return df[df['ID_INPUT'] == 4].drop(columns = ['Unnamed: 0']).reset_index(drop = True)\n",
    "\n",
    "def get_unique_states(X):\n",
    "    return np.unique(X)\n",
    "\n"
   ]
  },
  {
   "attachments": {},
   "cell_type": "markdown",
   "id": "393d39fe",
   "metadata": {},
   "source": [
    "### Feedback for Milon: \n",
    "```\n",
    "def get_conditional_prob(df):\n",
    "    conditional_prob = df[df['ID_INPUT'] == 4]['VALUE'].value_counts() / len(df[df['ID_INPUT'] == 4])\n",
    "    return conditional_prob\n",
    "```\n",
    "\n",
    "- this is not the formula of conditional probability (i.e. there's no \"given\" term)\n",
    "- this is just a regular probability of appearance of an executable file over all possible executables"
   ]
  },
  {
   "cell_type": "code",
   "execution_count": 13,
   "id": "2ae503d0",
   "metadata": {},
   "outputs": [],
   "source": [
    "def get_all_pairs(df):\n",
    "    \"\"\"Get pairs of exe files happening next to each other\"\"\"\n",
    "    pairs = [('S0', df.iloc[0]['VALUE'])] # initial pair would be (delimiter, first exe)\n",
    "    for index in range(len(df) - 1):\n",
    "        pair = (df.iloc[index]['VALUE'], df.iloc[index+1]['VALUE'])\n",
    "        pairs.append(pair)       \n",
    "    return pairs"
   ]
  },
  {
   "cell_type": "code",
   "execution_count": null,
   "id": "8966e38a",
   "metadata": {},
   "outputs": [],
   "source": []
  }
 ],
 "metadata": {
  "kernelspec": {
   "display_name": "base",
   "language": "python",
   "name": "python3"
  },
  "language_info": {
   "codemirror_mode": {
    "name": "ipython",
    "version": 3
   },
   "file_extension": ".py",
   "mimetype": "text/x-python",
   "name": "python",
   "nbconvert_exporter": "python",
   "pygments_lexer": "ipython3",
   "version": "3.7.6"
  },
  "vscode": {
   "interpreter": {
    "hash": "ad2bdc8ecc057115af97d19610ffacc2b4e99fae6737bb82f5d7fb13d2f2c186"
   }
  }
 },
 "nbformat": 4,
 "nbformat_minor": 5
}
