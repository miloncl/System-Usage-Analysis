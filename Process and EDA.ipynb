{
 "cells": [
  {
   "cell_type": "code",
   "execution_count": 54,
   "id": "8131143b",
   "metadata": {},
   "outputs": [],
   "source": [
    "import os\n",
    "import json\n",
    "import sqlite3\n",
    "\n",
    "import pandas as pd"
   ]
  },
  {
   "cell_type": "code",
   "execution_count": 55,
   "id": "f89bbd17",
   "metadata": {},
   "outputs": [],
   "source": [
    "filepath = 'data/'"
   ]
  },
  {
   "cell_type": "code",
   "execution_count": 56,
   "id": "44d88a07",
   "metadata": {},
   "outputs": [],
   "source": [
    "data = []\n",
    "\n",
    "for filename in os.listdir(filepath):\n",
    "    cnx = sqlite3.connect(filepath + filename)\n",
    "    df_string = pd.read_sql_query(\"SELECT * FROM COUNTERS_STRING_TIME_DATA\", cnx)\n",
    "    df_ull = pd.read_sql_query(\"SELECT * FROM COUNTERS_ULL_TIME_DATA\", cnx)\n",
    "    df_data = pd.concat([df_string, df_ull], ignore_index = True)\n",
    "    data.append(pd.DataFrame(df_data))"
   ]
  },
  {
   "cell_type": "code",
   "execution_count": 57,
   "id": "4a4c5bb6",
   "metadata": {},
   "outputs": [],
   "source": [
    "df = pd.concat(data, ignore_index = True)"
   ]
  },
  {
   "cell_type": "code",
   "execution_count": 58,
   "id": "747a9c6b",
   "metadata": {},
   "outputs": [],
   "source": [
    "df['MEASUREMENT_TIME'] = pd.to_datetime(df['MEASUREMENT_TIME'])\n",
    "df['PRIVATE_DATA'] = df['PRIVATE_DATA'].astype(int)\n",
    "df['VALUE'] = df['VALUE'].str.lower()"
   ]
  },
  {
   "cell_type": "code",
   "execution_count": 59,
   "id": "ab3d3391",
   "metadata": {},
   "outputs": [
    {
     "data": {
      "text/plain": [
       "MEASUREMENT_TIME    datetime64[ns]\n",
       "ID_INPUT                     int64\n",
       "VALUE                       object\n",
       "PRIVATE_DATA                 int64\n",
       "dtype: object"
      ]
     },
     "execution_count": 59,
     "metadata": {},
     "output_type": "execute_result"
    }
   ],
   "source": [
    "df.dtypes"
   ]
  },
  {
   "cell_type": "code",
   "execution_count": 60,
   "id": "da7a52ca",
   "metadata": {},
   "outputs": [],
   "source": [
    "df = df.sort_values(by = ['MEASUREMENT_TIME'], ignore_index = True)"
   ]
  },
  {
   "cell_type": "code",
   "execution_count": 61,
   "id": "8b4a2617",
   "metadata": {},
   "outputs": [
    {
     "data": {
      "text/html": [
       "<div>\n",
       "<style scoped>\n",
       "    .dataframe tbody tr th:only-of-type {\n",
       "        vertical-align: middle;\n",
       "    }\n",
       "\n",
       "    .dataframe tbody tr th {\n",
       "        vertical-align: top;\n",
       "    }\n",
       "\n",
       "    .dataframe thead th {\n",
       "        text-align: right;\n",
       "    }\n",
       "</style>\n",
       "<table border=\"1\" class=\"dataframe\">\n",
       "  <thead>\n",
       "    <tr style=\"text-align: right;\">\n",
       "      <th></th>\n",
       "      <th>MEASUREMENT_TIME</th>\n",
       "      <th>ID_INPUT</th>\n",
       "      <th>VALUE</th>\n",
       "      <th>PRIVATE_DATA</th>\n",
       "    </tr>\n",
       "  </thead>\n",
       "  <tbody>\n",
       "    <tr>\n",
       "      <th>0</th>\n",
       "      <td>2023-01-15 18:20:31.552</td>\n",
       "      <td>3</td>\n",
       "      <td>esrv.exe</td>\n",
       "      <td>0</td>\n",
       "    </tr>\n",
       "    <tr>\n",
       "      <th>1</th>\n",
       "      <td>2023-01-15 18:20:31.552</td>\n",
       "      <td>4</td>\n",
       "      <td>vsdebugconsole.exe</td>\n",
       "      <td>0</td>\n",
       "    </tr>\n",
       "    <tr>\n",
       "      <th>2</th>\n",
       "      <td>2023-01-15 18:20:31.552</td>\n",
       "      <td>5</td>\n",
       "      <td>consolewindowclass</td>\n",
       "      <td>0</td>\n",
       "    </tr>\n",
       "    <tr>\n",
       "      <th>3</th>\n",
       "      <td>2023-01-15 18:20:31.552</td>\n",
       "      <td>11</td>\n",
       "      <td>NaN</td>\n",
       "      <td>0</td>\n",
       "    </tr>\n",
       "    <tr>\n",
       "      <th>4</th>\n",
       "      <td>2023-01-15 18:20:31.552</td>\n",
       "      <td>10</td>\n",
       "      <td>NaN</td>\n",
       "      <td>0</td>\n",
       "    </tr>\n",
       "    <tr>\n",
       "      <th>...</th>\n",
       "      <td>...</td>\n",
       "      <td>...</td>\n",
       "      <td>...</td>\n",
       "      <td>...</td>\n",
       "    </tr>\n",
       "    <tr>\n",
       "      <th>3919</th>\n",
       "      <td>2023-01-16 04:29:33.175</td>\n",
       "      <td>0</td>\n",
       "      <td>NaN</td>\n",
       "      <td>0</td>\n",
       "    </tr>\n",
       "    <tr>\n",
       "      <th>3920</th>\n",
       "      <td>2023-01-16 04:29:33.175</td>\n",
       "      <td>5</td>\n",
       "      <td>consolewindowclass</td>\n",
       "      <td>0</td>\n",
       "    </tr>\n",
       "    <tr>\n",
       "      <th>3921</th>\n",
       "      <td>2023-01-16 04:29:33.175</td>\n",
       "      <td>4</td>\n",
       "      <td>vsdebugconsole.exe</td>\n",
       "      <td>0</td>\n",
       "    </tr>\n",
       "    <tr>\n",
       "      <th>3922</th>\n",
       "      <td>2023-01-16 04:29:33.175</td>\n",
       "      <td>6</td>\n",
       "      <td>NaN</td>\n",
       "      <td>0</td>\n",
       "    </tr>\n",
       "    <tr>\n",
       "      <th>3923</th>\n",
       "      <td>2023-01-16 04:29:33.175</td>\n",
       "      <td>3</td>\n",
       "      <td>esrv.exe</td>\n",
       "      <td>0</td>\n",
       "    </tr>\n",
       "  </tbody>\n",
       "</table>\n",
       "<p>3924 rows × 4 columns</p>\n",
       "</div>"
      ],
      "text/plain": [
       "            MEASUREMENT_TIME  ID_INPUT               VALUE  PRIVATE_DATA\n",
       "0    2023-01-15 18:20:31.552         3            esrv.exe             0\n",
       "1    2023-01-15 18:20:31.552         4  vsdebugconsole.exe             0\n",
       "2    2023-01-15 18:20:31.552         5  consolewindowclass             0\n",
       "3    2023-01-15 18:20:31.552        11                 NaN             0\n",
       "4    2023-01-15 18:20:31.552        10                 NaN             0\n",
       "...                      ...       ...                 ...           ...\n",
       "3919 2023-01-16 04:29:33.175         0                 NaN             0\n",
       "3920 2023-01-16 04:29:33.175         5  consolewindowclass             0\n",
       "3921 2023-01-16 04:29:33.175         4  vsdebugconsole.exe             0\n",
       "3922 2023-01-16 04:29:33.175         6                 NaN             0\n",
       "3923 2023-01-16 04:29:33.175         3            esrv.exe             0\n",
       "\n",
       "[3924 rows x 4 columns]"
      ]
     },
     "execution_count": 61,
     "metadata": {},
     "output_type": "execute_result"
    }
   ],
   "source": [
    "df"
   ]
  },
  {
   "cell_type": "code",
   "execution_count": null,
   "id": "6a236b2b",
   "metadata": {},
   "outputs": [],
   "source": []
  }
 ],
 "metadata": {
  "kernelspec": {
   "display_name": "Python 3 (ipykernel)",
   "language": "python",
   "name": "python3"
  },
  "language_info": {
   "codemirror_mode": {
    "name": "ipython",
    "version": 3
   },
   "file_extension": ".py",
   "mimetype": "text/x-python",
   "name": "python",
   "nbconvert_exporter": "python",
   "pygments_lexer": "ipython3",
   "version": "3.10.6"
  }
 },
 "nbformat": 4,
 "nbformat_minor": 5
}
