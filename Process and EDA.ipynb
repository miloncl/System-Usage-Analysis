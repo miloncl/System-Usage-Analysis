{
 "cells": [
  {
   "cell_type": "code",
   "execution_count": 21,
   "id": "8131143b",
   "metadata": {},
   "outputs": [],
   "source": [
    "import os\n",
    "import json\n",
    "import sqlite3\n",
    "\n",
    "import pandas as pd\n",
    "import matplotlib as plt"
   ]
  },
  {
   "cell_type": "code",
   "execution_count": 22,
   "id": "f89bbd17",
   "metadata": {},
   "outputs": [],
   "source": [
    "filepath = 'data user2/'"
   ]
  },
  {
   "cell_type": "code",
   "execution_count": 23,
   "id": "44d88a07",
   "metadata": {},
   "outputs": [],
   "source": [
    "data = []\n",
    "\n",
    "for filename in os.listdir(filepath):\n",
    "    if filename == '.ipynb_checkpoints':\n",
    "        continue\n",
    "    cnx = sqlite3.connect(filepath + filename)\n",
    "    df_string = pd.read_sql_query(\"SELECT * FROM COUNTERS_STRING_TIME_DATA\", cnx)\n",
    "    df_ull = pd.read_sql_query(\"SELECT * FROM COUNTERS_ULL_TIME_DATA\", cnx)\n",
    "    df_data = pd.concat([df_string, df_ull], ignore_index = True)\n",
    "    data.append(pd.DataFrame(df_data))\n",
    "    schema = pd.DataFrame(pd.read_sql_query(\"SELECT * FROM INPUTS\", cnx))"
   ]
  },
  {
   "cell_type": "code",
   "execution_count": 24,
   "id": "4a4c5bb6",
   "metadata": {},
   "outputs": [],
   "source": [
    "df = pd.concat(data, ignore_index = True)"
   ]
  },
  {
   "cell_type": "code",
   "execution_count": 25,
   "id": "747a9c6b",
   "metadata": {},
   "outputs": [],
   "source": [
    "df['MEASUREMENT_TIME'] = pd.to_datetime(df['MEASUREMENT_TIME'])\n",
    "df['PRIVATE_DATA'] = df['PRIVATE_DATA'].astype(int)\n",
    "#df['VALUE'] = df['VALUE'].str.lower()"
   ]
  },
  {
   "cell_type": "code",
   "execution_count": 26,
   "id": "ab3d3391",
   "metadata": {},
   "outputs": [
    {
     "data": {
      "text/plain": [
       "MEASUREMENT_TIME    datetime64[ns]\n",
       "ID_INPUT                     int64\n",
       "VALUE                       object\n",
       "PRIVATE_DATA                 int32\n",
       "dtype: object"
      ]
     },
     "execution_count": 26,
     "metadata": {},
     "output_type": "execute_result"
    }
   ],
   "source": [
    "df.dtypes"
   ]
  },
  {
   "cell_type": "code",
   "execution_count": 27,
   "id": "da7a52ca",
   "metadata": {},
   "outputs": [],
   "source": [
    "df = df.sort_values(by = ['MEASUREMENT_TIME'], ignore_index = True)"
   ]
  },
  {
   "cell_type": "code",
   "execution_count": 28,
   "id": "8b4a2617",
   "metadata": {},
   "outputs": [
    {
     "data": {
      "text/html": [
       "<div>\n",
       "<style scoped>\n",
       "    .dataframe tbody tr th:only-of-type {\n",
       "        vertical-align: middle;\n",
       "    }\n",
       "\n",
       "    .dataframe tbody tr th {\n",
       "        vertical-align: top;\n",
       "    }\n",
       "\n",
       "    .dataframe thead th {\n",
       "        text-align: right;\n",
       "    }\n",
       "</style>\n",
       "<table border=\"1\" class=\"dataframe\">\n",
       "  <thead>\n",
       "    <tr style=\"text-align: right;\">\n",
       "      <th></th>\n",
       "      <th>MEASUREMENT_TIME</th>\n",
       "      <th>ID_INPUT</th>\n",
       "      <th>VALUE</th>\n",
       "      <th>PRIVATE_DATA</th>\n",
       "    </tr>\n",
       "  </thead>\n",
       "  <tbody>\n",
       "    <tr>\n",
       "      <th>0</th>\n",
       "      <td>2023-01-19 20:06:06.546</td>\n",
       "      <td>3</td>\n",
       "      <td>esrv.exe</td>\n",
       "      <td>0</td>\n",
       "    </tr>\n",
       "    <tr>\n",
       "      <th>1</th>\n",
       "      <td>2023-01-19 20:06:06.546</td>\n",
       "      <td>9</td>\n",
       "      <td>701</td>\n",
       "      <td>0</td>\n",
       "    </tr>\n",
       "    <tr>\n",
       "      <th>2</th>\n",
       "      <td>2023-01-19 20:06:06.546</td>\n",
       "      <td>8</td>\n",
       "      <td>182</td>\n",
       "      <td>0</td>\n",
       "    </tr>\n",
       "    <tr>\n",
       "      <th>3</th>\n",
       "      <td>2023-01-19 20:06:06.546</td>\n",
       "      <td>7</td>\n",
       "      <td>1175</td>\n",
       "      <td>0</td>\n",
       "    </tr>\n",
       "    <tr>\n",
       "      <th>4</th>\n",
       "      <td>2023-01-19 20:06:06.546</td>\n",
       "      <td>6</td>\n",
       "      <td>182</td>\n",
       "      <td>0</td>\n",
       "    </tr>\n",
       "    <tr>\n",
       "      <th>...</th>\n",
       "      <td>...</td>\n",
       "      <td>...</td>\n",
       "      <td>...</td>\n",
       "      <td>...</td>\n",
       "    </tr>\n",
       "    <tr>\n",
       "      <th>11623</th>\n",
       "      <td>2023-01-23 17:56:44.898</td>\n",
       "      <td>5</td>\n",
       "      <td>ConsoleWindowClass</td>\n",
       "      <td>0</td>\n",
       "    </tr>\n",
       "    <tr>\n",
       "      <th>11624</th>\n",
       "      <td>2023-01-23 17:56:44.898</td>\n",
       "      <td>10</td>\n",
       "      <td>0</td>\n",
       "      <td>0</td>\n",
       "    </tr>\n",
       "    <tr>\n",
       "      <th>11625</th>\n",
       "      <td>2023-01-23 17:56:44.898</td>\n",
       "      <td>3</td>\n",
       "      <td>esrv.exe</td>\n",
       "      <td>0</td>\n",
       "    </tr>\n",
       "    <tr>\n",
       "      <th>11626</th>\n",
       "      <td>2023-01-23 17:56:44.898</td>\n",
       "      <td>1</td>\n",
       "      <td>12084</td>\n",
       "      <td>0</td>\n",
       "    </tr>\n",
       "    <tr>\n",
       "      <th>11627</th>\n",
       "      <td>2023-01-23 17:56:44.898</td>\n",
       "      <td>11</td>\n",
       "      <td>0</td>\n",
       "      <td>0</td>\n",
       "    </tr>\n",
       "  </tbody>\n",
       "</table>\n",
       "<p>11628 rows × 4 columns</p>\n",
       "</div>"
      ],
      "text/plain": [
       "             MEASUREMENT_TIME  ID_INPUT               VALUE  PRIVATE_DATA\n",
       "0     2023-01-19 20:06:06.546         3            esrv.exe             0\n",
       "1     2023-01-19 20:06:06.546         9                 701             0\n",
       "2     2023-01-19 20:06:06.546         8                 182             0\n",
       "3     2023-01-19 20:06:06.546         7                1175             0\n",
       "4     2023-01-19 20:06:06.546         6                 182             0\n",
       "...                       ...       ...                 ...           ...\n",
       "11623 2023-01-23 17:56:44.898         5  ConsoleWindowClass             0\n",
       "11624 2023-01-23 17:56:44.898        10                   0             0\n",
       "11625 2023-01-23 17:56:44.898         3            esrv.exe             0\n",
       "11626 2023-01-23 17:56:44.898         1               12084             0\n",
       "11627 2023-01-23 17:56:44.898        11                   0             0\n",
       "\n",
       "[11628 rows x 4 columns]"
      ]
     },
     "execution_count": 28,
     "metadata": {},
     "output_type": "execute_result"
    }
   ],
   "source": [
    "df"
   ]
  },
  {
   "cell_type": "code",
   "execution_count": 29,
   "id": "6a236b2b",
   "metadata": {},
   "outputs": [
    {
     "name": "stdout",
     "output_type": "stream",
     "text": [
      "Number of data points collected so far: 11628\n"
     ]
    }
   ],
   "source": [
    "shape = df.shape\n",
    "print(\"Number of data points collected so far: \" + str(shape[0]))"
   ]
  },
  {
   "cell_type": "code",
   "execution_count": 30,
   "id": "fe0fe000",
   "metadata": {},
   "outputs": [
    {
     "data": {
      "text/html": [
       "<div>\n",
       "<style scoped>\n",
       "    .dataframe tbody tr th:only-of-type {\n",
       "        vertical-align: middle;\n",
       "    }\n",
       "\n",
       "    .dataframe tbody tr th {\n",
       "        vertical-align: top;\n",
       "    }\n",
       "\n",
       "    .dataframe thead th {\n",
       "        text-align: right;\n",
       "    }\n",
       "</style>\n",
       "<table border=\"1\" class=\"dataframe\">\n",
       "  <thead>\n",
       "    <tr style=\"text-align: right;\">\n",
       "      <th></th>\n",
       "      <th>ID_INPUT</th>\n",
       "      <th>INPUT_NAME</th>\n",
       "      <th>INPUT_DESCRIPTION</th>\n",
       "    </tr>\n",
       "  </thead>\n",
       "  <tbody>\n",
       "    <tr>\n",
       "      <th>0</th>\n",
       "      <td>0</td>\n",
       "      <td>FOREGROUND-WIND(0)</td>\n",
       "      <td>Foreground Window Root ID</td>\n",
       "    </tr>\n",
       "    <tr>\n",
       "      <th>1</th>\n",
       "      <td>1</td>\n",
       "      <td>FOREGROUND-WIND(1)</td>\n",
       "      <td>Foreground Window Process ID</td>\n",
       "    </tr>\n",
       "    <tr>\n",
       "      <th>2</th>\n",
       "      <td>2</td>\n",
       "      <td>FOREGROUND-WIND(2)</td>\n",
       "      <td>Foreground Window Thread ID</td>\n",
       "    </tr>\n",
       "    <tr>\n",
       "      <th>3</th>\n",
       "      <td>3</td>\n",
       "      <td>FOREGROUND-WIND(3)</td>\n",
       "      <td>Foreground Window Name</td>\n",
       "    </tr>\n",
       "    <tr>\n",
       "      <th>4</th>\n",
       "      <td>4</td>\n",
       "      <td>FOREGROUND-WIND(4)</td>\n",
       "      <td>Foreground Window Image Name</td>\n",
       "    </tr>\n",
       "    <tr>\n",
       "      <th>5</th>\n",
       "      <td>5</td>\n",
       "      <td>FOREGROUND-WIND(5)</td>\n",
       "      <td>Foreground Window Class Name</td>\n",
       "    </tr>\n",
       "    <tr>\n",
       "      <th>6</th>\n",
       "      <td>6</td>\n",
       "      <td>FOREGROUND-WIND(6)</td>\n",
       "      <td>Window Upper Left X Coordinate</td>\n",
       "    </tr>\n",
       "    <tr>\n",
       "      <th>7</th>\n",
       "      <td>7</td>\n",
       "      <td>FOREGROUND-WIND(7)</td>\n",
       "      <td>Window Lower Right X Coordinate</td>\n",
       "    </tr>\n",
       "    <tr>\n",
       "      <th>8</th>\n",
       "      <td>8</td>\n",
       "      <td>FOREGROUND-WIND(8)</td>\n",
       "      <td>Window Upper Left Y Coordinate</td>\n",
       "    </tr>\n",
       "    <tr>\n",
       "      <th>9</th>\n",
       "      <td>9</td>\n",
       "      <td>FOREGROUND-WIND(9)</td>\n",
       "      <td>Window Lower Right Y Coordinate</td>\n",
       "    </tr>\n",
       "    <tr>\n",
       "      <th>10</th>\n",
       "      <td>10</td>\n",
       "      <td>FOREGROUND-WIND(10)</td>\n",
       "      <td>Check if the App is Hung or Not</td>\n",
       "    </tr>\n",
       "    <tr>\n",
       "      <th>11</th>\n",
       "      <td>11</td>\n",
       "      <td>FOREGROUND-WIND(11)</td>\n",
       "      <td>Check if the App is Immersive or Not</td>\n",
       "    </tr>\n",
       "  </tbody>\n",
       "</table>\n",
       "</div>"
      ],
      "text/plain": [
       "    ID_INPUT           INPUT_NAME                     INPUT_DESCRIPTION\n",
       "0          0   FOREGROUND-WIND(0)             Foreground Window Root ID\n",
       "1          1   FOREGROUND-WIND(1)          Foreground Window Process ID\n",
       "2          2   FOREGROUND-WIND(2)           Foreground Window Thread ID\n",
       "3          3   FOREGROUND-WIND(3)                Foreground Window Name\n",
       "4          4   FOREGROUND-WIND(4)          Foreground Window Image Name\n",
       "5          5   FOREGROUND-WIND(5)          Foreground Window Class Name\n",
       "6          6   FOREGROUND-WIND(6)        Window Upper Left X Coordinate\n",
       "7          7   FOREGROUND-WIND(7)       Window Lower Right X Coordinate\n",
       "8          8   FOREGROUND-WIND(8)        Window Upper Left Y Coordinate\n",
       "9          9   FOREGROUND-WIND(9)       Window Lower Right Y Coordinate\n",
       "10        10  FOREGROUND-WIND(10)       Check if the App is Hung or Not\n",
       "11        11  FOREGROUND-WIND(11)  Check if the App is Immersive or Not"
      ]
     },
     "execution_count": 30,
     "metadata": {},
     "output_type": "execute_result"
    }
   ],
   "source": [
    "schema[['ID_INPUT', 'INPUT_NAME', 'INPUT_DESCRIPTION']]"
   ]
  },
  {
   "cell_type": "code",
   "execution_count": 31,
   "id": "7bd40121",
   "metadata": {},
   "outputs": [
    {
     "data": {
      "text/plain": [
       "MEASUREMENT_TIME    datetime64[ns]\n",
       "ID_INPUT                     int64\n",
       "VALUE                       object\n",
       "PRIVATE_DATA                 int32\n",
       "dtype: object"
      ]
     },
     "execution_count": 31,
     "metadata": {},
     "output_type": "execute_result"
    }
   ],
   "source": [
    "df.dtypes"
   ]
  },
  {
   "cell_type": "code",
   "execution_count": null,
   "id": "b9d927e2",
   "metadata": {},
   "outputs": [],
   "source": []
  },
  {
   "cell_type": "code",
   "execution_count": 32,
   "id": "d95e54c2",
   "metadata": {
    "scrolled": false
   },
   "outputs": [
    {
     "data": {
      "image/png": "[encoded data removed]",
      "text/plain": [
       "<Figure size 640x480 with 1 Axes>"
      ]
     },
     "metadata": {},
     "output_type": "display_data"
    }
   ],
   "source": [
    "plot = df[df['ID_INPUT'] == 4]['VALUE'].value_counts()[:5].plot.barh(x = 'index', y = 'VALUE')\n",
    "plot.set_axisbelow(True)\n",
    "plot.set_xlabel('Number of Times in Foreground')\n",
    "plot.set_ylabel('Application')\n",
    "plot.set_title('Top Used Apps')\n",
    "plot.invert_yaxis()\n",
    "plt.pyplot.grid(axis = 'x')\n",
    "plt.pyplot.show()"
   ]
  },
  {
   "cell_type": "code",
   "execution_count": 40,
   "id": "bfe7d9d3",
   "metadata": {},
   "outputs": [
    {
     "data": {
      "text/plain": [
       "array(['esrv.exe', 'Foreground - Microsoft Visual Studio',\n",
       "       'How to Configure a C/C++ Project in VS - Google Docs - Google Chrome',\n",
       "       'Messenger', 'sdk',\n",
       "       'Public -- 2022-2023 (CCG DCA UCSD-HDSI Capstone) | Microsoft Teams',\n",
       "       'Search', 'Administrator: Command Prompt',\n",
       "       'Installation - pip documentation v22.3.1 - Google Chrome',\n",
       "       'Missing String.', 'Program Manager',\n",
       "       'Python Release Python 3.11.1 | Python.org - Google Chrome',\n",
       "       'Python 3.11.1 (64-bit) Setup',\n",
       "       'How to install Jupyter Notebook on Windows? - GeeksforGeeks - Google Chrome',\n",
       "       'windows - Python command not working in command prompt - Stack Overflow - Google Chrome',\n",
       "       'System Properties', 'Edit environment variable',\n",
       "       'Administrator: Command Prompt - py', 'New Tab - Google Chrome',\n",
       "       'Opening Jupyter Notebook - Google Chrome',\n",
       "       'Home Page - Select or create a notebook - Google Chrome',\n",
       "       'Administrator: Command Prompt - py  -m notebook',\n",
       "       'miloncl/Dsc180b - Google Chrome', 'Command Prompt',\n",
       "       'New notification', 'Select Administrator: Command Prompt',\n",
       "       'Git 2.39.1 Setup', 'ReleaseNotes.html - Google Chrome',\n",
       "       'Git - Downloading Package - Google Chrome',\n",
       "       'Solve: Git Is Not Recognized as an Internal or External Command - Google Chrome',\n",
       "       'How to clone a GitHub repository using SSH for Windows, Linux & MacOS | by Nintendo Engineer | DataDrivenInvestor - Google Chrome',\n",
       "       'Select Administrator: Command Prompt - py  -m notebook',\n",
       "       'Jupyter Notebook - Google Chrome',\n",
       "       '.ipynb file is not opening on windows - Google Search - Google Chrome',\n",
       "       'python - Jupyter notebook not trusted - Stack Overflow - Google Chrome',\n",
       "       'Process and EDA - Jupyter Notebook - Google Chrome',\n",
       "       'gradescope - Google Search - Google Chrome',\n",
       "       'Untitled - Google Chrome',\n",
       "       'Dsc 180b - Google Slides - Google Chrome', 'Windows Security',\n",
       "       'Sign in - Google Accounts - Google Chrome', 'Control Center',\n",
       "       'Peacock - Google Chrome', 'Settings',\n",
       "       'Asia Trip - Google Docs - Google Chrome',\n",
       "       'Command Prompt - py  -m notebook', 'File Explorer',\n",
       "       'DB Browser for SQLite', 'outputs', 'test-000001.db',\n",
       "       'General (CCG DCA UCSD-HDSI Capstone) | Microsoft Teams',\n",
       "       'Linker Tools Error LNK2005 | Microsoft Learn - Google Chrome',\n",
       "       'test-000002.db', 'mouse_input - Microsoft Visual Studio',\n",
       "       'can i record mouse input and foreground window at the same time xlsdk - Google Search - Google Chrome',\n",
       "       'Microsoft Visual Studio Community 2019', 'test-000003.db',\n",
       "       'explorer.exe - Google Search - Google Chrome',\n",
       "       'Linear Algebra Review - YouTube - Google Chrome',\n",
       "       'Select Command Prompt', 'test-000004.db', 'test-000093.db',\n",
       "       'data', 'Your Repositories - Google Chrome',\n",
       "       'intel isimmersive - Google Search - Google Chrome',\n",
       "       'Stackoverflow down? Current outages and problems | Downdetector - Google Chrome',\n",
       "       'What is SearchApp.exe and How to Disable It? - Google Chrome',\n",
       "       'Intel Capstone Project - Google Chrome\\r\\n', 'Microsoft Store',\n",
       "       'Spotify', 'Login - Spotify - Google Chrome', 'Spotify Premium',\n",
       "       'Home - Peacock - Google Chrome', 'Hulu | Watch - Google Chrome',\n",
       "       'Hulu | Home', 'Hulu | Watch', 'Loading Microsoft Teams',\n",
       "       'Netflix', 'Open', 'Daytime Lingerie - Barcrush',\n",
       "       'DSC 140A - Probabilistic Modeling and ML - LE [A00] - Course Podcasts - UC San Diego - Google Chrome',\n",
       "       'Dsc180b', 'WUIconWindow', 'Zoom Cloud Meetings', 'Zoom',\n",
       "       'Zoom Meeting', 'Disney+',\n",
       "       'Sign in with SSO - Zoom - Google Chrome',\n",
       "       'https://ucsd.zoom.us/saml/login?from=desktop&zm-cid=eKhV6MoJF3PMndK3BU4OsCb%2FryKtS0Lh9%2FEKwvGnZLI%3D&code_challenge=2kkd880qRxrs%2FfwxlE8qcoSyTv5d%2Fw2L%2FPLOaCJQ11E%3D - Google Chrome',\n",
       "       'Meeting Controls',\n",
       "       '[DSC180B] Homework of Week 1 - Google Docs - Google Chrome',\n",
       "       'Google Chrome', 'Images - Docker Desktop',\n",
       "       'Team QA (CCG DCA UCSD-HDSI Capstone) | Microsoft Teams',\n",
       "       'Dsc 180B - Quarter 2 Week 2 - Google Slides - Google Chrome',\n",
       "       'test-000006.db', 'test-000005.db',\n",
       "       'TaskListThumbnailWnd - Google Search - Google Chrome',\n",
       "       'How consistent is the class name \"Shell_TrayWnd\"? - Google Chrome',\n",
       "       'when do i get Shell_TrayWnd returned - Google Search - Google Chrome',\n",
       "       'GetWindowTextA function (winuser.h) - Win32 apps | Microsoft Learn - Google Chrome',\n",
       "       'InternalGetWindowText function (winuser.h) - Win32 apps | Microsoft Learn - Google Chrome',\n",
       "       'test-000008.db', 'test-000009.db',\n",
       "       'what is a blob in python - Google Search - Google Chrome',\n",
       "       'Microsoft OneDrive',\n",
       "       'how to take screenshot on windows - Google Search - Google Chrome',\n",
       "       'Notification Center', 'This PC',\n",
       "       'All the Ways to Take Screenshots on Windows 10 and 11 - CNET - Google Chrome',\n",
       "       'Contact Student Financial Solutions - Google Chrome',\n",
       "       'test-000089.db', 'test-000090.db', 'test-000091.db',\n",
       "       'GetForegroundWindow() returns zero - Google Chrome',\n",
       "       'Online C Compiler - Google Chrome', 'Snipping Tool',\n",
       "       'test-000000.db', 'data user2', 'test-000012.db', 'test-000007.db',\n",
       "       'test-000010.db', 'test-000011.db',\n",
       "       'Select Command Prompt - py  -m notebook',\n",
       "       \"database - SQLite problem (doesn't update) - Stack Overflow - Google Chrome\",\n",
       "       'database is locked - Google Search - Google Chrome',\n",
       "       'WinZip Evaluation Version - 0 days left', 'Screen Snipping',\n",
       "       'Save As', 'Frank Ocean - Thinkin Bout You',\n",
       "       'UCSD Data Acquisition Capstone Using DCA Collector | Microsoft Teams',\n",
       "       'A$AP Rocky - Purity (feat. Frank Ocean)',\n",
       "       'Frank Ocean - Forrest Gump', 'Campuswire - Google Chrome',\n",
       "       'earthgang - Google Search - Google Chrome', 'Windows Installer',\n",
       "       'WinZip 27.0',\n",
       "       'What Happens if Someone Else Is Driving My Car and Gets Into an Accident? - Google Chrome',\n",
       "       'Redirect Notice - Google Chrome',\n",
       "       'Microsoft Teams | Microsoft Teams', 'Windows Security Alert',\n",
       "       'Meeting now | Microsoft Teams',\n",
       "       'Join conversation - Google Chrome',\n",
       "       'UCSD Data Acquisition & Analysis Capstone Using DCA Collector | Microsoft Teams',\n",
       "       'Microsoft Teams Call in progress UCSD Data Acquisition & Analysis Capstone Using DCA Collector',\n",
       "       'Using Python Pandas dataframe to read and insert data to Microsoft SQL Server | TomazTsql - Google Chrome',\n",
       "       'uninstall apps windows 10 - Google Search - Google Chrome',\n",
       "       'Colonist: Play Settlers of Catan Alternative - Free Online Game - Google Chrome',\n",
       "       'skribbl - Free Multiplayer Drawing & Guessing Game - Google Chrome',\n",
       "       'Hulu', 'Photos', 'Submit Lab 02 | Gradescope - Google Chrome',\n",
       "       'Watch Blue Lock Episode 15 English Subbedat Gogoanime - Google Chrome',\n",
       "       'GOGOAnime - Watch anime online in high quality at GoGoAnime - Google Chrome',\n",
       "       'Watch Kage no Jitsuryokusha ni Naritakute! Episode 10 English Subbedat Gogoanime - Google Chrome',\n",
       "       'Watch Kage no Jitsuryokusha ni Naritakute! Episode 11 English Subbedat Gogoanime - Google Chrome',\n",
       "       '16 Top-Rated Ski Resorts on the East Coast, 2023 | PlanetWare - Google Chrome',\n",
       "       'Find', 'Windows Default Lock Screen',\n",
       "       'View Submission | Gradescope - Google Chrome', 'Microsoft Teams',\n",
       "       'Downloads',\n",
       "       'UCSD-HDSI Telemetry Capstone 2022-2023 -- Semester #2 week02 HMM.pdf - Adobe Acrobat Reader (64-bit)',\n",
       "       'PDF File viewer | Microsoft Teams', 'A.pdf - Google Chrome',\n",
       "       'C File viewer | Microsoft Teams',\n",
       "       'c++ - How to get different language text by GetWindowText? - Stack Overflow - Google Chrome',\n",
       "       'test-000017.db', 'test-000020.db', 'test-000018.db'], dtype=object)"
      ]
     },
     "execution_count": 40,
     "metadata": {},
     "output_type": "execute_result"
    }
   ],
   "source": [
    "df[df['ID_INPUT'] == 3]['VALUE'].unique()\n",
    "#unable to open process is when we use command prompt as an adminstrator"
   ]
  },
  {
   "cell_type": "code",
   "execution_count": 34,
   "id": "3f949b08",
   "metadata": {},
   "outputs": [
    {
     "data": {
      "text/plain": [
       "'2023-01-23 17:56:04.607'"
      ]
     },
     "execution_count": 34,
     "metadata": {},
     "output_type": "execute_result"
    }
   ],
   "source": [
    "df_string['MEASUREMENT_TIME'].min()"
   ]
  },
  {
   "cell_type": "code",
   "execution_count": 35,
   "id": "ef2584f0",
   "metadata": {},
   "outputs": [
    {
     "data": {
      "text/plain": [
       "'2023-01-23 17:56:44.898'"
      ]
     },
     "execution_count": 35,
     "metadata": {},
     "output_type": "execute_result"
    }
   ],
   "source": [
    "df_string['MEASUREMENT_TIME'].max()"
   ]
  },
  {
   "cell_type": "code",
   "execution_count": 36,
   "id": "1c3c91ed",
   "metadata": {},
   "outputs": [
    {
     "data": {
      "text/plain": [
       "array([0], dtype=object)"
      ]
     },
     "execution_count": 36,
     "metadata": {},
     "output_type": "execute_result"
    }
   ],
   "source": [
    "df[df['ID_INPUT'] == 10]['VALUE'].unique()"
   ]
  },
  {
   "cell_type": "code",
   "execution_count": 37,
   "id": "ba237c8a",
   "metadata": {},
   "outputs": [],
   "source": [
    "#df.to_csv('dataUser2.csv')"
   ]
  },
  {
   "cell_type": "code",
   "execution_count": null,
   "id": "4deea177",
   "metadata": {},
   "outputs": [],
   "source": []
  },
  {
   "cell_type": "code",
   "execution_count": null,
   "id": "b44a64b1",
   "metadata": {},
   "outputs": [],
   "source": []
  }
 ],
 "metadata": {
  "kernelspec": {
   "display_name": "Python 3 (ipykernel)",
   "language": "python",
   "name": "python3"
  },
  "language_info": {
   "codemirror_mode": {
    "name": "ipython",
    "version": 3
   },
   "file_extension": ".py",
   "mimetype": "text/x-python",
   "name": "python",
   "nbconvert_exporter": "python",
   "pygments_lexer": "ipython3",
   "version": "3.11.1"
  }
 },
 "nbformat": 4,
 "nbformat_minor": 5
}
