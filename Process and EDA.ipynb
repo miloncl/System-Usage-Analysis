{
 "cells": [
  {
   "cell_type": "code",
   "execution_count": 41,
   "id": "8131143b",
   "metadata": {},
   "outputs": [],
   "source": [
    "import os\n",
    "import json\n",
    "import sqlite3\n",
    "\n",
    "import pandas as pd\n",
    "import matplotlib as plt"
   ]
  },
  {
   "cell_type": "code",
   "execution_count": 42,
   "id": "f89bbd17",
   "metadata": {},
   "outputs": [],
   "source": [
    "filepath = 'data/'"
   ]
  },
  {
   "cell_type": "code",
   "execution_count": 43,
   "id": "44d88a07",
   "metadata": {},
   "outputs": [],
   "source": [
    "data = []\n",
    "\n",
    "for filename in os.listdir(filepath):\n",
    "    cnx = sqlite3.connect(filepath + filename)\n",
    "    df_string = pd.read_sql_query(\"SELECT * FROM COUNTERS_STRING_TIME_DATA\", cnx)\n",
    "    df_ull = pd.read_sql_query(\"SELECT * FROM COUNTERS_ULL_TIME_DATA\", cnx)\n",
    "    df_data = pd.concat([df_string, df_ull], ignore_index = True)\n",
    "    data.append(pd.DataFrame(df_data))\n",
    "    schema = pd.DataFrame(pd.read_sql_query(\"SELECT * FROM INPUTS\", cnx))"
   ]
  },
  {
   "cell_type": "code",
   "execution_count": 44,
   "id": "4a4c5bb6",
   "metadata": {},
   "outputs": [],
   "source": [
    "df = pd.concat(data, ignore_index = True)"
   ]
  },
  {
   "cell_type": "code",
   "execution_count": 45,
   "id": "747a9c6b",
   "metadata": {},
   "outputs": [],
   "source": [
    "df['MEASUREMENT_TIME'] = pd.to_datetime(df['MEASUREMENT_TIME'])\n",
    "df['PRIVATE_DATA'] = df['PRIVATE_DATA'].astype(int)\n",
    "#df['VALUE'] = df['VALUE'].str.lower()"
   ]
  },
  {
   "cell_type": "code",
   "execution_count": 46,
   "id": "ab3d3391",
   "metadata": {},
   "outputs": [
    {
     "data": {
      "text/plain": [
       "MEASUREMENT_TIME    datetime64[ns]\n",
       "ID_INPUT                     int64\n",
       "VALUE                       object\n",
       "PRIVATE_DATA                 int32\n",
       "dtype: object"
      ]
     },
     "execution_count": 46,
     "metadata": {},
     "output_type": "execute_result"
    }
   ],
   "source": [
    "df.dtypes"
   ]
  },
  {
   "cell_type": "code",
   "execution_count": 47,
   "id": "da7a52ca",
   "metadata": {},
   "outputs": [],
   "source": [
    "df = df.sort_values(by = ['MEASUREMENT_TIME'], ignore_index = True)"
   ]
  },
  {
   "cell_type": "code",
   "execution_count": 48,
   "id": "8b4a2617",
   "metadata": {},
   "outputs": [
    {
     "data": {
      "text/html": [
       "<div>\n",
       "<style scoped>\n",
       "    .dataframe tbody tr th:only-of-type {\n",
       "        vertical-align: middle;\n",
       "    }\n",
       "\n",
       "    .dataframe tbody tr th {\n",
       "        vertical-align: top;\n",
       "    }\n",
       "\n",
       "    .dataframe thead th {\n",
       "        text-align: right;\n",
       "    }\n",
       "</style>\n",
       "<table border=\"1\" class=\"dataframe\">\n",
       "  <thead>\n",
       "    <tr style=\"text-align: right;\">\n",
       "      <th></th>\n",
       "      <th>MEASUREMENT_TIME</th>\n",
       "      <th>ID_INPUT</th>\n",
       "      <th>VALUE</th>\n",
       "      <th>PRIVATE_DATA</th>\n",
       "    </tr>\n",
       "  </thead>\n",
       "  <tbody>\n",
       "    <tr>\n",
       "      <th>0</th>\n",
       "      <td>2023-01-15 18:20:31.552</td>\n",
       "      <td>3</td>\n",
       "      <td>esrv.exe</td>\n",
       "      <td>0</td>\n",
       "    </tr>\n",
       "    <tr>\n",
       "      <th>1</th>\n",
       "      <td>2023-01-15 18:20:31.552</td>\n",
       "      <td>11</td>\n",
       "      <td>0</td>\n",
       "      <td>0</td>\n",
       "    </tr>\n",
       "    <tr>\n",
       "      <th>2</th>\n",
       "      <td>2023-01-15 18:20:31.552</td>\n",
       "      <td>10</td>\n",
       "      <td>0</td>\n",
       "      <td>0</td>\n",
       "    </tr>\n",
       "    <tr>\n",
       "      <th>3</th>\n",
       "      <td>2023-01-15 18:20:31.552</td>\n",
       "      <td>9</td>\n",
       "      <td>672</td>\n",
       "      <td>0</td>\n",
       "    </tr>\n",
       "    <tr>\n",
       "      <th>4</th>\n",
       "      <td>2023-01-15 18:20:31.552</td>\n",
       "      <td>8</td>\n",
       "      <td>154</td>\n",
       "      <td>0</td>\n",
       "    </tr>\n",
       "    <tr>\n",
       "      <th>...</th>\n",
       "      <td>...</td>\n",
       "      <td>...</td>\n",
       "      <td>...</td>\n",
       "      <td>...</td>\n",
       "    </tr>\n",
       "    <tr>\n",
       "      <th>3919</th>\n",
       "      <td>2023-01-16 04:29:33.175</td>\n",
       "      <td>5</td>\n",
       "      <td>ConsoleWindowClass</td>\n",
       "      <td>0</td>\n",
       "    </tr>\n",
       "    <tr>\n",
       "      <th>3920</th>\n",
       "      <td>2023-01-16 04:29:33.175</td>\n",
       "      <td>10</td>\n",
       "      <td>0</td>\n",
       "      <td>0</td>\n",
       "    </tr>\n",
       "    <tr>\n",
       "      <th>3921</th>\n",
       "      <td>2023-01-16 04:29:33.175</td>\n",
       "      <td>3</td>\n",
       "      <td>esrv.exe</td>\n",
       "      <td>0</td>\n",
       "    </tr>\n",
       "    <tr>\n",
       "      <th>3922</th>\n",
       "      <td>2023-01-16 04:29:33.175</td>\n",
       "      <td>1</td>\n",
       "      <td>19592</td>\n",
       "      <td>0</td>\n",
       "    </tr>\n",
       "    <tr>\n",
       "      <th>3923</th>\n",
       "      <td>2023-01-16 04:29:33.175</td>\n",
       "      <td>11</td>\n",
       "      <td>0</td>\n",
       "      <td>0</td>\n",
       "    </tr>\n",
       "  </tbody>\n",
       "</table>\n",
       "<p>3924 rows × 4 columns</p>\n",
       "</div>"
      ],
      "text/plain": [
       "            MEASUREMENT_TIME  ID_INPUT               VALUE  PRIVATE_DATA\n",
       "0    2023-01-15 18:20:31.552         3            esrv.exe             0\n",
       "1    2023-01-15 18:20:31.552        11                   0             0\n",
       "2    2023-01-15 18:20:31.552        10                   0             0\n",
       "3    2023-01-15 18:20:31.552         9                 672             0\n",
       "4    2023-01-15 18:20:31.552         8                 154             0\n",
       "...                      ...       ...                 ...           ...\n",
       "3919 2023-01-16 04:29:33.175         5  ConsoleWindowClass             0\n",
       "3920 2023-01-16 04:29:33.175        10                   0             0\n",
       "3921 2023-01-16 04:29:33.175         3            esrv.exe             0\n",
       "3922 2023-01-16 04:29:33.175         1               19592             0\n",
       "3923 2023-01-16 04:29:33.175        11                   0             0\n",
       "\n",
       "[3924 rows x 4 columns]"
      ]
     },
     "execution_count": 48,
     "metadata": {},
     "output_type": "execute_result"
    }
   ],
   "source": [
    "df"
   ]
  },
  {
   "cell_type": "code",
   "execution_count": 49,
   "id": "6a236b2b",
   "metadata": {},
   "outputs": [
    {
     "name": "stdout",
     "output_type": "stream",
     "text": [
      "Number of data points collected so far: 3924\n"
     ]
    }
   ],
   "source": [
    "shape = df.shape\n",
    "print(\"Number of data points collected so far: \" + str(shape[0]))"
   ]
  },
  {
   "cell_type": "code",
   "execution_count": 50,
   "id": "fe0fe000",
   "metadata": {},
   "outputs": [
    {
     "data": {
      "text/html": [
       "<div>\n",
       "<style scoped>\n",
       "    .dataframe tbody tr th:only-of-type {\n",
       "        vertical-align: middle;\n",
       "    }\n",
       "\n",
       "    .dataframe tbody tr th {\n",
       "        vertical-align: top;\n",
       "    }\n",
       "\n",
       "    .dataframe thead th {\n",
       "        text-align: right;\n",
       "    }\n",
       "</style>\n",
       "<table border=\"1\" class=\"dataframe\">\n",
       "  <thead>\n",
       "    <tr style=\"text-align: right;\">\n",
       "      <th></th>\n",
       "      <th>ID_INPUT</th>\n",
       "      <th>INPUT_NAME</th>\n",
       "      <th>INPUT_DESCRIPTION</th>\n",
       "    </tr>\n",
       "  </thead>\n",
       "  <tbody>\n",
       "    <tr>\n",
       "      <th>0</th>\n",
       "      <td>0</td>\n",
       "      <td>FOREGROUND-WIND(0)</td>\n",
       "      <td>Foreground Window Root ID</td>\n",
       "    </tr>\n",
       "    <tr>\n",
       "      <th>1</th>\n",
       "      <td>1</td>\n",
       "      <td>FOREGROUND-WIND(1)</td>\n",
       "      <td>Foreground Window Process ID</td>\n",
       "    </tr>\n",
       "    <tr>\n",
       "      <th>2</th>\n",
       "      <td>2</td>\n",
       "      <td>FOREGROUND-WIND(2)</td>\n",
       "      <td>Foreground Window Thread ID</td>\n",
       "    </tr>\n",
       "    <tr>\n",
       "      <th>3</th>\n",
       "      <td>3</td>\n",
       "      <td>FOREGROUND-WIND(3)</td>\n",
       "      <td>Foreground Window Name</td>\n",
       "    </tr>\n",
       "    <tr>\n",
       "      <th>4</th>\n",
       "      <td>4</td>\n",
       "      <td>FOREGROUND-WIND(4)</td>\n",
       "      <td>Foreground Window Image Name</td>\n",
       "    </tr>\n",
       "    <tr>\n",
       "      <th>5</th>\n",
       "      <td>5</td>\n",
       "      <td>FOREGROUND-WIND(5)</td>\n",
       "      <td>Foreground Window Class Name</td>\n",
       "    </tr>\n",
       "    <tr>\n",
       "      <th>6</th>\n",
       "      <td>6</td>\n",
       "      <td>FOREGROUND-WIND(6)</td>\n",
       "      <td>Window Upper Left X Coordinate</td>\n",
       "    </tr>\n",
       "    <tr>\n",
       "      <th>7</th>\n",
       "      <td>7</td>\n",
       "      <td>FOREGROUND-WIND(7)</td>\n",
       "      <td>Window Lower Right X Coordinate</td>\n",
       "    </tr>\n",
       "    <tr>\n",
       "      <th>8</th>\n",
       "      <td>8</td>\n",
       "      <td>FOREGROUND-WIND(8)</td>\n",
       "      <td>Window Upper Left Y Coordinate</td>\n",
       "    </tr>\n",
       "    <tr>\n",
       "      <th>9</th>\n",
       "      <td>9</td>\n",
       "      <td>FOREGROUND-WIND(9)</td>\n",
       "      <td>Window Lower Right Y Coordinate</td>\n",
       "    </tr>\n",
       "    <tr>\n",
       "      <th>10</th>\n",
       "      <td>10</td>\n",
       "      <td>FOREGROUND-WIND(10)</td>\n",
       "      <td>Check if the App is Hung or Not</td>\n",
       "    </tr>\n",
       "    <tr>\n",
       "      <th>11</th>\n",
       "      <td>11</td>\n",
       "      <td>FOREGROUND-WIND(11)</td>\n",
       "      <td>Check if the App is Immersive or Not</td>\n",
       "    </tr>\n",
       "  </tbody>\n",
       "</table>\n",
       "</div>"
      ],
      "text/plain": [
       "    ID_INPUT           INPUT_NAME                     INPUT_DESCRIPTION\n",
       "0          0   FOREGROUND-WIND(0)             Foreground Window Root ID\n",
       "1          1   FOREGROUND-WIND(1)          Foreground Window Process ID\n",
       "2          2   FOREGROUND-WIND(2)           Foreground Window Thread ID\n",
       "3          3   FOREGROUND-WIND(3)                Foreground Window Name\n",
       "4          4   FOREGROUND-WIND(4)          Foreground Window Image Name\n",
       "5          5   FOREGROUND-WIND(5)          Foreground Window Class Name\n",
       "6          6   FOREGROUND-WIND(6)        Window Upper Left X Coordinate\n",
       "7          7   FOREGROUND-WIND(7)       Window Lower Right X Coordinate\n",
       "8          8   FOREGROUND-WIND(8)        Window Upper Left Y Coordinate\n",
       "9          9   FOREGROUND-WIND(9)       Window Lower Right Y Coordinate\n",
       "10        10  FOREGROUND-WIND(10)       Check if the App is Hung or Not\n",
       "11        11  FOREGROUND-WIND(11)  Check if the App is Immersive or Not"
      ]
     },
     "execution_count": 50,
     "metadata": {},
     "output_type": "execute_result"
    }
   ],
   "source": [
    "schema[['ID_INPUT', 'INPUT_NAME', 'INPUT_DESCRIPTION']]"
   ]
  },
  {
   "cell_type": "code",
   "execution_count": 51,
   "id": "7bd40121",
   "metadata": {},
   "outputs": [
    {
     "data": {
      "text/plain": [
       "MEASUREMENT_TIME    datetime64[ns]\n",
       "ID_INPUT                     int64\n",
       "VALUE                       object\n",
       "PRIVATE_DATA                 int32\n",
       "dtype: object"
      ]
     },
     "execution_count": 51,
     "metadata": {},
     "output_type": "execute_result"
    }
   ],
   "source": [
    "df.dtypes"
   ]
  },
  {
   "cell_type": "code",
   "execution_count": null,
   "id": "b9d927e2",
   "metadata": {},
   "outputs": [],
   "source": []
  },
  {
   "cell_type": "code",
   "execution_count": 52,
   "id": "d95e54c2",
   "metadata": {
    "scrolled": true
   },
   "outputs": [
    {
     "data": {
      "image/png": "[encoded data removed]",
      "text/plain": [
       "<Figure size 640x480 with 1 Axes>"
      ]
     },
     "metadata": {},
     "output_type": "display_data"
    }
   ],
   "source": [
    "plot = df[df['ID_INPUT'] == 4]['VALUE'].value_counts()[:5].plot.barh(x = 'index', y = 'VALUE')\n",
    "plot.set_axisbelow(True)\n",
    "plot.set_xlabel('Number of Times in Foreground')\n",
    "plot.set_ylabel('Application')\n",
    "plot.set_title('Top Used Apps')\n",
    "plot.invert_yaxis()\n",
    "plt.pyplot.grid(axis = 'x')\n",
    "plt.pyplot.show()"
   ]
  },
  {
   "cell_type": "code",
   "execution_count": 53,
   "id": "bfe7d9d3",
   "metadata": {},
   "outputs": [
    {
     "data": {
      "text/plain": [
       "array(['VsDebugConsole.exe', 'explorer.exe', 'devenv.exe',\n",
       "       'ApplicationFrameHost.exe', 'chrome.exe',\n",
       "       'ShellExperienceHost.exe', 'SearchApp.exe',\n",
       "       'Unable To Open Process', 'SnippingTool.exe',\n",
       "       'DB Browser for SQLite.exe', 'Code.exe',\n",
       "       'CodeSetup-stable-97dec172d3256f8ca4bfb2143f3f76b503ca0534.tmp',\n",
       "       'IDMan.exe', 'msedge.exe'], dtype=object)"
      ]
     },
     "execution_count": 53,
     "metadata": {},
     "output_type": "execute_result"
    }
   ],
   "source": [
    "df[df['ID_INPUT'] == 4]['VALUE'].unique()\n",
    "#unable to open process is when we use command prompt as an adminstrator"
   ]
  },
  {
   "cell_type": "code",
   "execution_count": 54,
   "id": "3f949b08",
   "metadata": {},
   "outputs": [
    {
     "data": {
      "text/plain": [
       "'2023-01-16 03:36:50.435'"
      ]
     },
     "execution_count": 54,
     "metadata": {},
     "output_type": "execute_result"
    }
   ],
   "source": [
    "df_string['MEASUREMENT_TIME'].min()"
   ]
  },
  {
   "cell_type": "code",
   "execution_count": 55,
   "id": "ef2584f0",
   "metadata": {},
   "outputs": [
    {
     "data": {
      "text/plain": [
       "'2023-01-16 04:29:33.175'"
      ]
     },
     "execution_count": 55,
     "metadata": {},
     "output_type": "execute_result"
    }
   ],
   "source": [
    "df_string['MEASUREMENT_TIME'].max()"
   ]
  },
  {
   "cell_type": "code",
   "execution_count": 56,
   "id": "1c3c91ed",
   "metadata": {},
   "outputs": [
    {
     "data": {
      "text/plain": [
       "array([0], dtype=object)"
      ]
     },
     "execution_count": 56,
     "metadata": {},
     "output_type": "execute_result"
    }
   ],
   "source": [
    "df[df['ID_INPUT'] == 10]['VALUE'].unique()"
   ]
  },
  {
   "cell_type": "code",
   "execution_count": 57,
   "id": "ba237c8a",
   "metadata": {},
   "outputs": [],
   "source": [
    "#df.to_csv('dataUser1.csv')"
   ]
  },
  {
   "cell_type": "code",
   "execution_count": null,
   "id": "4deea177",
   "metadata": {},
   "outputs": [],
   "source": []
  },
  {
   "cell_type": "code",
   "execution_count": null,
   "id": "484b35bb",
   "metadata": {},
   "outputs": [],
   "source": []
  }
 ],
 "metadata": {
  "kernelspec": {
   "display_name": "Python 3 (ipykernel)",
   "language": "python",
   "name": "python3"
  },
  "language_info": {
   "codemirror_mode": {
    "name": "ipython",
    "version": 3
   },
   "file_extension": ".py",
   "mimetype": "text/x-python",
   "name": "python",
   "nbconvert_exporter": "python",
   "pygments_lexer": "ipython3",
   "version": "3.11.1"
  }
 },
 "nbformat": 4,
 "nbformat_minor": 5
}
