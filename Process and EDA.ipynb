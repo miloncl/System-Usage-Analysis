{
 "cells": [
  {
   "attachments": {},
   "cell_type": "markdown",
   "id": "aebd6b20",
   "metadata": {},
   "source": [
    "# Data Preprocessing"
   ]
  },
  {
   "cell_type": "code",
   "execution_count": 1,
   "id": "8131143b",
   "metadata": {},
   "outputs": [],
   "source": [
    "import os\n",
    "import json\n",
    "import sqlite3\n",
    "\n",
    "import pandas as pd\n",
    "import matplotlib as plt"
   ]
  },
  {
   "cell_type": "code",
   "execution_count": 2,
   "id": "f89bbd17",
   "metadata": {},
   "outputs": [],
   "source": [
    "filepath = 'data user2/'"
   ]
  },
  {
   "cell_type": "code",
   "execution_count": 4,
   "id": "44d88a07",
   "metadata": {},
   "outputs": [],
   "source": [
    "data = []\n",
    "\n",
    "for filename in os.listdir(filepath):\n",
    "    if filename == '.ipynb_checkpoints':\n",
    "        continue\n",
    "    cnx = sqlite3.connect(filepath + filename)\n",
    "    df_string = pd.read_sql_query(\"SELECT * FROM COUNTERS_STRING_TIME_DATA\", cnx)\n",
    "    df_ull = pd.read_sql_query(\"SELECT * FROM COUNTERS_ULL_TIME_DATA\", cnx)\n",
    "    df_data = pd.concat([df_string, df_ull], ignore_index = True)\n",
    "    data.append(pd.DataFrame(df_data))\n",
    "    schema = pd.DataFrame(pd.read_sql_query(\"SELECT * FROM INPUTS\", cnx))"
   ]
  },
  {
   "cell_type": "code",
   "execution_count": 5,
   "id": "4a4c5bb6",
   "metadata": {},
   "outputs": [],
   "source": [
    "df = pd.concat(data, ignore_index = True)"
   ]
  },
  {
   "cell_type": "code",
   "execution_count": 6,
   "id": "747a9c6b",
   "metadata": {},
   "outputs": [],
   "source": [
    "df['MEASUREMENT_TIME'] = pd.to_datetime(df['MEASUREMENT_TIME'])\n",
    "df['PRIVATE_DATA'] = df['PRIVATE_DATA'].astype(int)\n",
    "#df['VALUE'] = df['VALUE'].str.lower()"
   ]
  },
  {
   "cell_type": "code",
   "execution_count": 7,
   "id": "ab3d3391",
   "metadata": {},
   "outputs": [
    {
     "data": {
      "text/plain": [
       "MEASUREMENT_TIME    datetime64[ns]\n",
       "ID_INPUT                     int64\n",
       "VALUE                       object\n",
       "PRIVATE_DATA                 int32\n",
       "dtype: object"
      ]
     },
     "execution_count": 7,
     "metadata": {},
     "output_type": "execute_result"
    }
   ],
   "source": [
    "df.dtypes"
   ]
  },
  {
   "cell_type": "code",
   "execution_count": 8,
   "id": "da7a52ca",
   "metadata": {},
   "outputs": [],
   "source": [
    "df = df.sort_values(by = ['MEASUREMENT_TIME'], ignore_index = True)"
   ]
  },
  {
   "cell_type": "code",
   "execution_count": 9,
   "id": "8b4a2617",
   "metadata": {},
   "outputs": [
    {
     "data": {
      "text/html": [
       "<div>\n",
       "<style scoped>\n",
       "    .dataframe tbody tr th:only-of-type {\n",
       "        vertical-align: middle;\n",
       "    }\n",
       "\n",
       "    .dataframe tbody tr th {\n",
       "        vertical-align: top;\n",
       "    }\n",
       "\n",
       "    .dataframe thead th {\n",
       "        text-align: right;\n",
       "    }\n",
       "</style>\n",
       "<table border=\"1\" class=\"dataframe\">\n",
       "  <thead>\n",
       "    <tr style=\"text-align: right;\">\n",
       "      <th></th>\n",
       "      <th>MEASUREMENT_TIME</th>\n",
       "      <th>ID_INPUT</th>\n",
       "      <th>VALUE</th>\n",
       "      <th>PRIVATE_DATA</th>\n",
       "    </tr>\n",
       "  </thead>\n",
       "  <tbody>\n",
       "    <tr>\n",
       "      <th>0</th>\n",
       "      <td>2023-01-19 20:06:06.546</td>\n",
       "      <td>3</td>\n",
       "      <td>esrv.exe</td>\n",
       "      <td>0</td>\n",
       "    </tr>\n",
       "    <tr>\n",
       "      <th>1</th>\n",
       "      <td>2023-01-19 20:06:06.546</td>\n",
       "      <td>9</td>\n",
       "      <td>701</td>\n",
       "      <td>0</td>\n",
       "    </tr>\n",
       "    <tr>\n",
       "      <th>2</th>\n",
       "      <td>2023-01-19 20:06:06.546</td>\n",
       "      <td>8</td>\n",
       "      <td>182</td>\n",
       "      <td>0</td>\n",
       "    </tr>\n",
       "    <tr>\n",
       "      <th>3</th>\n",
       "      <td>2023-01-19 20:06:06.546</td>\n",
       "      <td>7</td>\n",
       "      <td>1175</td>\n",
       "      <td>0</td>\n",
       "    </tr>\n",
       "    <tr>\n",
       "      <th>4</th>\n",
       "      <td>2023-01-19 20:06:06.546</td>\n",
       "      <td>6</td>\n",
       "      <td>182</td>\n",
       "      <td>0</td>\n",
       "    </tr>\n",
       "    <tr>\n",
       "      <th>...</th>\n",
       "      <td>...</td>\n",
       "      <td>...</td>\n",
       "      <td>...</td>\n",
       "      <td>...</td>\n",
       "    </tr>\n",
       "    <tr>\n",
       "      <th>11623</th>\n",
       "      <td>2023-01-23 17:56:44.898</td>\n",
       "      <td>5</td>\n",
       "      <td>ConsoleWindowClass</td>\n",
       "      <td>0</td>\n",
       "    </tr>\n",
       "    <tr>\n",
       "      <th>11624</th>\n",
       "      <td>2023-01-23 17:56:44.898</td>\n",
       "      <td>10</td>\n",
       "      <td>0</td>\n",
       "      <td>0</td>\n",
       "    </tr>\n",
       "    <tr>\n",
       "      <th>11625</th>\n",
       "      <td>2023-01-23 17:56:44.898</td>\n",
       "      <td>3</td>\n",
       "      <td>esrv.exe</td>\n",
       "      <td>0</td>\n",
       "    </tr>\n",
       "    <tr>\n",
       "      <th>11626</th>\n",
       "      <td>2023-01-23 17:56:44.898</td>\n",
       "      <td>1</td>\n",
       "      <td>12084</td>\n",
       "      <td>0</td>\n",
       "    </tr>\n",
       "    <tr>\n",
       "      <th>11627</th>\n",
       "      <td>2023-01-23 17:56:44.898</td>\n",
       "      <td>11</td>\n",
       "      <td>0</td>\n",
       "      <td>0</td>\n",
       "    </tr>\n",
       "  </tbody>\n",
       "</table>\n",
       "<p>11628 rows × 4 columns</p>\n",
       "</div>"
      ],
      "text/plain": [
       "             MEASUREMENT_TIME  ID_INPUT               VALUE  PRIVATE_DATA\n",
       "0     2023-01-19 20:06:06.546         3            esrv.exe             0\n",
       "1     2023-01-19 20:06:06.546         9                 701             0\n",
       "2     2023-01-19 20:06:06.546         8                 182             0\n",
       "3     2023-01-19 20:06:06.546         7                1175             0\n",
       "4     2023-01-19 20:06:06.546         6                 182             0\n",
       "...                       ...       ...                 ...           ...\n",
       "11623 2023-01-23 17:56:44.898         5  ConsoleWindowClass             0\n",
       "11624 2023-01-23 17:56:44.898        10                   0             0\n",
       "11625 2023-01-23 17:56:44.898         3            esrv.exe             0\n",
       "11626 2023-01-23 17:56:44.898         1               12084             0\n",
       "11627 2023-01-23 17:56:44.898        11                   0             0\n",
       "\n",
       "[11628 rows x 4 columns]"
      ]
     },
     "execution_count": 9,
     "metadata": {},
     "output_type": "execute_result"
    }
   ],
   "source": [
    "df"
   ]
  },
  {
   "attachments": {},
   "cell_type": "markdown",
   "id": "0e719d23",
   "metadata": {},
   "source": [
    "# Exploratory Data Analysis (EDA)"
   ]
  },
  {
   "cell_type": "code",
   "execution_count": 10,
   "id": "6a236b2b",
   "metadata": {},
   "outputs": [
    {
     "name": "stdout",
     "output_type": "stream",
     "text": [
      "Number of data points collected so far: 11628\n"
     ]
    }
   ],
   "source": [
    "shape = df.shape\n",
    "print(\"Number of data points collected so far: \" + str(shape[0]))"
   ]
  },
  {
   "cell_type": "code",
   "execution_count": 11,
   "id": "fe0fe000",
   "metadata": {},
   "outputs": [
    {
     "data": {
      "text/html": [
       "<div>\n",
       "<style scoped>\n",
       "    .dataframe tbody tr th:only-of-type {\n",
       "        vertical-align: middle;\n",
       "    }\n",
       "\n",
       "    .dataframe tbody tr th {\n",
       "        vertical-align: top;\n",
       "    }\n",
       "\n",
       "    .dataframe thead th {\n",
       "        text-align: right;\n",
       "    }\n",
       "</style>\n",
       "<table border=\"1\" class=\"dataframe\">\n",
       "  <thead>\n",
       "    <tr style=\"text-align: right;\">\n",
       "      <th></th>\n",
       "      <th>ID_INPUT</th>\n",
       "      <th>INPUT_NAME</th>\n",
       "      <th>INPUT_DESCRIPTION</th>\n",
       "    </tr>\n",
       "  </thead>\n",
       "  <tbody>\n",
       "    <tr>\n",
       "      <th>0</th>\n",
       "      <td>0</td>\n",
       "      <td>FOREGROUND-WIND(0)</td>\n",
       "      <td>Foreground Window Root ID</td>\n",
       "    </tr>\n",
       "    <tr>\n",
       "      <th>1</th>\n",
       "      <td>1</td>\n",
       "      <td>FOREGROUND-WIND(1)</td>\n",
       "      <td>Foreground Window Process ID</td>\n",
       "    </tr>\n",
       "    <tr>\n",
       "      <th>2</th>\n",
       "      <td>2</td>\n",
       "      <td>FOREGROUND-WIND(2)</td>\n",
       "      <td>Foreground Window Thread ID</td>\n",
       "    </tr>\n",
       "    <tr>\n",
       "      <th>3</th>\n",
       "      <td>3</td>\n",
       "      <td>FOREGROUND-WIND(3)</td>\n",
       "      <td>Foreground Window Name</td>\n",
       "    </tr>\n",
       "    <tr>\n",
       "      <th>4</th>\n",
       "      <td>4</td>\n",
       "      <td>FOREGROUND-WIND(4)</td>\n",
       "      <td>Foreground Window Image Name</td>\n",
       "    </tr>\n",
       "    <tr>\n",
       "      <th>5</th>\n",
       "      <td>5</td>\n",
       "      <td>FOREGROUND-WIND(5)</td>\n",
       "      <td>Foreground Window Class Name</td>\n",
       "    </tr>\n",
       "    <tr>\n",
       "      <th>6</th>\n",
       "      <td>6</td>\n",
       "      <td>FOREGROUND-WIND(6)</td>\n",
       "      <td>Window Upper Left X Coordinate</td>\n",
       "    </tr>\n",
       "    <tr>\n",
       "      <th>7</th>\n",
       "      <td>7</td>\n",
       "      <td>FOREGROUND-WIND(7)</td>\n",
       "      <td>Window Lower Right X Coordinate</td>\n",
       "    </tr>\n",
       "    <tr>\n",
       "      <th>8</th>\n",
       "      <td>8</td>\n",
       "      <td>FOREGROUND-WIND(8)</td>\n",
       "      <td>Window Upper Left Y Coordinate</td>\n",
       "    </tr>\n",
       "    <tr>\n",
       "      <th>9</th>\n",
       "      <td>9</td>\n",
       "      <td>FOREGROUND-WIND(9)</td>\n",
       "      <td>Window Lower Right Y Coordinate</td>\n",
       "    </tr>\n",
       "    <tr>\n",
       "      <th>10</th>\n",
       "      <td>10</td>\n",
       "      <td>FOREGROUND-WIND(10)</td>\n",
       "      <td>Check if the App is Hung or Not</td>\n",
       "    </tr>\n",
       "    <tr>\n",
       "      <th>11</th>\n",
       "      <td>11</td>\n",
       "      <td>FOREGROUND-WIND(11)</td>\n",
       "      <td>Check if the App is Immersive or Not</td>\n",
       "    </tr>\n",
       "  </tbody>\n",
       "</table>\n",
       "</div>"
      ],
      "text/plain": [
       "    ID_INPUT           INPUT_NAME                     INPUT_DESCRIPTION\n",
       "0          0   FOREGROUND-WIND(0)             Foreground Window Root ID\n",
       "1          1   FOREGROUND-WIND(1)          Foreground Window Process ID\n",
       "2          2   FOREGROUND-WIND(2)           Foreground Window Thread ID\n",
       "3          3   FOREGROUND-WIND(3)                Foreground Window Name\n",
       "4          4   FOREGROUND-WIND(4)          Foreground Window Image Name\n",
       "5          5   FOREGROUND-WIND(5)          Foreground Window Class Name\n",
       "6          6   FOREGROUND-WIND(6)        Window Upper Left X Coordinate\n",
       "7          7   FOREGROUND-WIND(7)       Window Lower Right X Coordinate\n",
       "8          8   FOREGROUND-WIND(8)        Window Upper Left Y Coordinate\n",
       "9          9   FOREGROUND-WIND(9)       Window Lower Right Y Coordinate\n",
       "10        10  FOREGROUND-WIND(10)       Check if the App is Hung or Not\n",
       "11        11  FOREGROUND-WIND(11)  Check if the App is Immersive or Not"
      ]
     },
     "execution_count": 11,
     "metadata": {},
     "output_type": "execute_result"
    }
   ],
   "source": [
    "schema[['ID_INPUT', 'INPUT_NAME', 'INPUT_DESCRIPTION']]"
   ]
  },
  {
   "cell_type": "code",
   "execution_count": 12,
   "id": "7bd40121",
   "metadata": {},
   "outputs": [
    {
     "data": {
      "text/plain": [
       "MEASUREMENT_TIME    datetime64[ns]\n",
       "ID_INPUT                     int64\n",
       "VALUE                       object\n",
       "PRIVATE_DATA                 int32\n",
       "dtype: object"
      ]
     },
     "execution_count": 12,
     "metadata": {},
     "output_type": "execute_result"
    }
   ],
   "source": [
    "df.dtypes"
   ]
  },
  {
   "cell_type": "code",
   "execution_count": 13,
   "id": "d95e54c2",
   "metadata": {
    "scrolled": false
   },
   "outputs": [
    {
     "data": {
      "image/png": "[encoded data removed]",
      "text/plain": [
       "<Figure size 432x288 with 1 Axes>"
      ]
     },
     "metadata": {
      "needs_background": "light"
     },
     "output_type": "display_data"
    }
   ],
   "source": [
    "plot = df[df['ID_INPUT'] == 4]['VALUE'].value_counts()[:5].plot.barh(x = 'index', y = 'VALUE')\n",
    "plot.set_axisbelow(True)\n",
    "plot.set_xlabel('Number of Times in Foreground')\n",
    "plot.set_ylabel('Executable Files')\n",
    "plot.set_title('Frequency of Executable Files Corresponding to the Top Used Apps')\n",
    "plot.invert_yaxis()\n",
    "plt.pyplot.grid(axis = 'x')\n",
    "plt.pyplot.show()"
   ]
  },
  {
   "cell_type": "code",
   "execution_count": 14,
   "id": "bfe7d9d3",
   "metadata": {},
   "outputs": [
    {
     "data": {
      "text/plain": [
       "array(['esrv.exe', 'Foreground - Microsoft Visual Studio',\n",
       "       'How to Configure a C/C++ Project in VS - Google Docs - Google Chrome',\n",
       "       'Messenger', 'sdk'], dtype=object)"
      ]
     },
     "execution_count": 14,
     "metadata": {},
     "output_type": "execute_result"
    }
   ],
   "source": [
    "df[df['ID_INPUT'] == 3]['VALUE'].unique()[:5]\n",
    "#unable to open process is when we use command prompt as an adminstrator"
   ]
  },
  {
   "cell_type": "code",
   "execution_count": 15,
   "id": "3f949b08",
   "metadata": {},
   "outputs": [
    {
     "data": {
      "text/plain": [
       "'2023-01-23 17:56:04.607'"
      ]
     },
     "execution_count": 15,
     "metadata": {},
     "output_type": "execute_result"
    }
   ],
   "source": [
    "df_string['MEASUREMENT_TIME'].min()"
   ]
  },
  {
   "cell_type": "code",
   "execution_count": 16,
   "id": "ef2584f0",
   "metadata": {},
   "outputs": [
    {
     "data": {
      "text/plain": [
       "'2023-01-23 17:56:44.898'"
      ]
     },
     "execution_count": 16,
     "metadata": {},
     "output_type": "execute_result"
    }
   ],
   "source": [
    "df_string['MEASUREMENT_TIME'].max()"
   ]
  },
  {
   "cell_type": "code",
   "execution_count": 17,
   "id": "1c3c91ed",
   "metadata": {},
   "outputs": [
    {
     "data": {
      "text/plain": [
       "array([0], dtype=object)"
      ]
     },
     "execution_count": 17,
     "metadata": {},
     "output_type": "execute_result"
    }
   ],
   "source": [
    "df[df['ID_INPUT'] == 10]['VALUE'].unique()"
   ]
  },
  {
   "cell_type": "code",
   "execution_count": 18,
   "id": "b44a64b1",
   "metadata": {},
   "outputs": [
    {
     "data": {
      "text/plain": [
       "969.0"
      ]
     },
     "execution_count": 18,
     "metadata": {},
     "output_type": "execute_result"
    }
   ],
   "source": [
    "df.shape[0]/12 # number of unique entries"
   ]
  },
  {
   "cell_type": "code",
   "execution_count": 19,
   "id": "13cdec51",
   "metadata": {},
   "outputs": [],
   "source": [
    "tmp = df[df.ID_INPUT == 4]"
   ]
  },
  {
   "cell_type": "code",
   "execution_count": 20,
   "id": "31446041",
   "metadata": {},
   "outputs": [
    {
     "data": {
      "text/plain": [
       "array(['VsDebugConsole.exe', 'devenv.exe', 'chrome.exe', 'Messenger.exe',\n",
       "       'explorer.exe', 'Teams.exe', 'SearchHost.exe',\n",
       "       'Unable To Open Process', 'python-3.11.1-amd64.exe',\n",
       "       'ShellExperienceHost.exe', 'Git-2.39.1-64-bit.tmp', 'cmd.exe',\n",
       "       'CredentialUIBroker.exe', 'ApplicationFrameHost.exe',\n",
       "       'DB Browser for SQLite.exe', 'Spotify.exe', 'msedge.exe',\n",
       "       'MoNotificationUx.exe', 'Zoom.exe', 'Docker Desktop.exe',\n",
       "       'OneDrive.exe', 'winzip64.exe', 'ScreenClippingHost.exe',\n",
       "       'PickerHost.exe', 'msiexec.exe', 'rundll32.exe', 'conhost.exe',\n",
       "       'LockApp.exe', 'msteams.exe', 'Acrobat.exe', 'Widgets.exe'],\n",
       "      dtype=object)"
      ]
     },
     "execution_count": 20,
     "metadata": {},
     "output_type": "execute_result"
    }
   ],
   "source": [
    "tmp.VALUE.unique()"
   ]
  },
  {
   "cell_type": "code",
   "execution_count": 21,
   "id": "1a49e821",
   "metadata": {},
   "outputs": [
    {
     "data": {
      "text/plain": [
       "31"
      ]
     },
     "execution_count": 21,
     "metadata": {},
     "output_type": "execute_result"
    }
   ],
   "source": [
    "len(tmp.VALUE.unique())"
   ]
  },
  {
   "cell_type": "code",
   "execution_count": 22,
   "id": "544a8ec4",
   "metadata": {},
   "outputs": [
    {
     "data": {
      "text/html": [
       "<div>\n",
       "<style scoped>\n",
       "    .dataframe tbody tr th:only-of-type {\n",
       "        vertical-align: middle;\n",
       "    }\n",
       "\n",
       "    .dataframe tbody tr th {\n",
       "        vertical-align: top;\n",
       "    }\n",
       "\n",
       "    .dataframe thead th {\n",
       "        text-align: right;\n",
       "    }\n",
       "</style>\n",
       "<table border=\"1\" class=\"dataframe\">\n",
       "  <thead>\n",
       "    <tr style=\"text-align: right;\">\n",
       "      <th></th>\n",
       "      <th>MEASUREMENT_TIME</th>\n",
       "      <th>ID_INPUT</th>\n",
       "      <th>PRIVATE_DATA</th>\n",
       "    </tr>\n",
       "    <tr>\n",
       "      <th>VALUE</th>\n",
       "      <th></th>\n",
       "      <th></th>\n",
       "      <th></th>\n",
       "    </tr>\n",
       "  </thead>\n",
       "  <tbody>\n",
       "    <tr>\n",
       "      <th>chrome.exe</th>\n",
       "      <td>235</td>\n",
       "      <td>235</td>\n",
       "      <td>235</td>\n",
       "    </tr>\n",
       "    <tr>\n",
       "      <th>explorer.exe</th>\n",
       "      <td>175</td>\n",
       "      <td>175</td>\n",
       "      <td>175</td>\n",
       "    </tr>\n",
       "    <tr>\n",
       "      <th>VsDebugConsole.exe</th>\n",
       "      <td>100</td>\n",
       "      <td>100</td>\n",
       "      <td>100</td>\n",
       "    </tr>\n",
       "    <tr>\n",
       "      <th>Messenger.exe</th>\n",
       "      <td>84</td>\n",
       "      <td>84</td>\n",
       "      <td>84</td>\n",
       "    </tr>\n",
       "    <tr>\n",
       "      <th>DB Browser for SQLite.exe</th>\n",
       "      <td>72</td>\n",
       "      <td>72</td>\n",
       "      <td>72</td>\n",
       "    </tr>\n",
       "    <tr>\n",
       "      <th>devenv.exe</th>\n",
       "      <td>46</td>\n",
       "      <td>46</td>\n",
       "      <td>46</td>\n",
       "    </tr>\n",
       "    <tr>\n",
       "      <th>Unable To Open Process</th>\n",
       "      <td>46</td>\n",
       "      <td>46</td>\n",
       "      <td>46</td>\n",
       "    </tr>\n",
       "    <tr>\n",
       "      <th>Teams.exe</th>\n",
       "      <td>43</td>\n",
       "      <td>43</td>\n",
       "      <td>43</td>\n",
       "    </tr>\n",
       "    <tr>\n",
       "      <th>ApplicationFrameHost.exe</th>\n",
       "      <td>30</td>\n",
       "      <td>30</td>\n",
       "      <td>30</td>\n",
       "    </tr>\n",
       "    <tr>\n",
       "      <th>SearchHost.exe</th>\n",
       "      <td>26</td>\n",
       "      <td>26</td>\n",
       "      <td>26</td>\n",
       "    </tr>\n",
       "    <tr>\n",
       "      <th>Zoom.exe</th>\n",
       "      <td>23</td>\n",
       "      <td>23</td>\n",
       "      <td>23</td>\n",
       "    </tr>\n",
       "    <tr>\n",
       "      <th>cmd.exe</th>\n",
       "      <td>21</td>\n",
       "      <td>21</td>\n",
       "      <td>21</td>\n",
       "    </tr>\n",
       "    <tr>\n",
       "      <th>msedge.exe</th>\n",
       "      <td>20</td>\n",
       "      <td>20</td>\n",
       "      <td>20</td>\n",
       "    </tr>\n",
       "    <tr>\n",
       "      <th>ShellExperienceHost.exe</th>\n",
       "      <td>12</td>\n",
       "      <td>12</td>\n",
       "      <td>12</td>\n",
       "    </tr>\n",
       "    <tr>\n",
       "      <th>Spotify.exe</th>\n",
       "      <td>8</td>\n",
       "      <td>8</td>\n",
       "      <td>8</td>\n",
       "    </tr>\n",
       "    <tr>\n",
       "      <th>msteams.exe</th>\n",
       "      <td>6</td>\n",
       "      <td>6</td>\n",
       "      <td>6</td>\n",
       "    </tr>\n",
       "    <tr>\n",
       "      <th>MoNotificationUx.exe</th>\n",
       "      <td>3</td>\n",
       "      <td>3</td>\n",
       "      <td>3</td>\n",
       "    </tr>\n",
       "    <tr>\n",
       "      <th>Docker Desktop.exe</th>\n",
       "      <td>3</td>\n",
       "      <td>3</td>\n",
       "      <td>3</td>\n",
       "    </tr>\n",
       "    <tr>\n",
       "      <th>msiexec.exe</th>\n",
       "      <td>2</td>\n",
       "      <td>2</td>\n",
       "      <td>2</td>\n",
       "    </tr>\n",
       "    <tr>\n",
       "      <th>Acrobat.exe</th>\n",
       "      <td>2</td>\n",
       "      <td>2</td>\n",
       "      <td>2</td>\n",
       "    </tr>\n",
       "    <tr>\n",
       "      <th>CredentialUIBroker.exe</th>\n",
       "      <td>2</td>\n",
       "      <td>2</td>\n",
       "      <td>2</td>\n",
       "    </tr>\n",
       "    <tr>\n",
       "      <th>Widgets.exe</th>\n",
       "      <td>1</td>\n",
       "      <td>1</td>\n",
       "      <td>1</td>\n",
       "    </tr>\n",
       "    <tr>\n",
       "      <th>ScreenClippingHost.exe</th>\n",
       "      <td>1</td>\n",
       "      <td>1</td>\n",
       "      <td>1</td>\n",
       "    </tr>\n",
       "    <tr>\n",
       "      <th>conhost.exe</th>\n",
       "      <td>1</td>\n",
       "      <td>1</td>\n",
       "      <td>1</td>\n",
       "    </tr>\n",
       "    <tr>\n",
       "      <th>PickerHost.exe</th>\n",
       "      <td>1</td>\n",
       "      <td>1</td>\n",
       "      <td>1</td>\n",
       "    </tr>\n",
       "    <tr>\n",
       "      <th>OneDrive.exe</th>\n",
       "      <td>1</td>\n",
       "      <td>1</td>\n",
       "      <td>1</td>\n",
       "    </tr>\n",
       "    <tr>\n",
       "      <th>LockApp.exe</th>\n",
       "      <td>1</td>\n",
       "      <td>1</td>\n",
       "      <td>1</td>\n",
       "    </tr>\n",
       "    <tr>\n",
       "      <th>Git-2.39.1-64-bit.tmp</th>\n",
       "      <td>1</td>\n",
       "      <td>1</td>\n",
       "      <td>1</td>\n",
       "    </tr>\n",
       "    <tr>\n",
       "      <th>python-3.11.1-amd64.exe</th>\n",
       "      <td>1</td>\n",
       "      <td>1</td>\n",
       "      <td>1</td>\n",
       "    </tr>\n",
       "    <tr>\n",
       "      <th>rundll32.exe</th>\n",
       "      <td>1</td>\n",
       "      <td>1</td>\n",
       "      <td>1</td>\n",
       "    </tr>\n",
       "    <tr>\n",
       "      <th>winzip64.exe</th>\n",
       "      <td>1</td>\n",
       "      <td>1</td>\n",
       "      <td>1</td>\n",
       "    </tr>\n",
       "  </tbody>\n",
       "</table>\n",
       "</div>"
      ],
      "text/plain": [
       "                           MEASUREMENT_TIME  ID_INPUT  PRIVATE_DATA\n",
       "VALUE                                                              \n",
       "chrome.exe                              235       235           235\n",
       "explorer.exe                            175       175           175\n",
       "VsDebugConsole.exe                      100       100           100\n",
       "Messenger.exe                            84        84            84\n",
       "DB Browser for SQLite.exe                72        72            72\n",
       "devenv.exe                               46        46            46\n",
       "Unable To Open Process                   46        46            46\n",
       "Teams.exe                                43        43            43\n",
       "ApplicationFrameHost.exe                 30        30            30\n",
       "SearchHost.exe                           26        26            26\n",
       "Zoom.exe                                 23        23            23\n",
       "cmd.exe                                  21        21            21\n",
       "msedge.exe                               20        20            20\n",
       "ShellExperienceHost.exe                  12        12            12\n",
       "Spotify.exe                               8         8             8\n",
       "msteams.exe                               6         6             6\n",
       "MoNotificationUx.exe                      3         3             3\n",
       "Docker Desktop.exe                        3         3             3\n",
       "msiexec.exe                               2         2             2\n",
       "Acrobat.exe                               2         2             2\n",
       "CredentialUIBroker.exe                    2         2             2\n",
       "Widgets.exe                               1         1             1\n",
       "ScreenClippingHost.exe                    1         1             1\n",
       "conhost.exe                               1         1             1\n",
       "PickerHost.exe                            1         1             1\n",
       "OneDrive.exe                              1         1             1\n",
       "LockApp.exe                               1         1             1\n",
       "Git-2.39.1-64-bit.tmp                     1         1             1\n",
       "python-3.11.1-amd64.exe                   1         1             1\n",
       "rundll32.exe                              1         1             1\n",
       "winzip64.exe                              1         1             1"
      ]
     },
     "execution_count": 22,
     "metadata": {},
     "output_type": "execute_result"
    }
   ],
   "source": [
    "tmp.groupby('VALUE').count().sort_values(by=\"ID_INPUT\", ascending=False) # executable can have the extension \"tmp\""
   ]
  },
  {
   "cell_type": "code",
   "execution_count": 23,
   "id": "fc02de07",
   "metadata": {},
   "outputs": [
    {
     "data": {
      "text/plain": [
       "1"
      ]
     },
     "execution_count": 23,
     "metadata": {},
     "output_type": "execute_result"
    }
   ],
   "source": [
    "len(df.PRIVATE_DATA.unique())"
   ]
  },
  {
   "cell_type": "code",
   "execution_count": 24,
   "id": "551f957a",
   "metadata": {},
   "outputs": [],
   "source": [
    "df = df.assign(date = df[\"MEASUREMENT_TIME\"].astype(str).apply(lambda x: x[:10]))"
   ]
  },
  {
   "cell_type": "code",
   "execution_count": 25,
   "id": "5e205ff8",
   "metadata": {},
   "outputs": [
    {
     "data": {
      "text/html": [
       "<div>\n",
       "<style scoped>\n",
       "    .dataframe tbody tr th:only-of-type {\n",
       "        vertical-align: middle;\n",
       "    }\n",
       "\n",
       "    .dataframe tbody tr th {\n",
       "        vertical-align: top;\n",
       "    }\n",
       "\n",
       "    .dataframe thead th {\n",
       "        text-align: right;\n",
       "    }\n",
       "</style>\n",
       "<table border=\"1\" class=\"dataframe\">\n",
       "  <thead>\n",
       "    <tr style=\"text-align: right;\">\n",
       "      <th></th>\n",
       "      <th>MEASUREMENT_TIME</th>\n",
       "      <th>ID_INPUT</th>\n",
       "      <th>VALUE</th>\n",
       "      <th>PRIVATE_DATA</th>\n",
       "    </tr>\n",
       "    <tr>\n",
       "      <th>date</th>\n",
       "      <th></th>\n",
       "      <th></th>\n",
       "      <th></th>\n",
       "      <th></th>\n",
       "    </tr>\n",
       "  </thead>\n",
       "  <tbody>\n",
       "    <tr>\n",
       "      <th>2023-01-19</th>\n",
       "      <td>3372</td>\n",
       "      <td>3372</td>\n",
       "      <td>3372</td>\n",
       "      <td>3372</td>\n",
       "    </tr>\n",
       "    <tr>\n",
       "      <th>2023-01-20</th>\n",
       "      <td>5796</td>\n",
       "      <td>5796</td>\n",
       "      <td>5796</td>\n",
       "      <td>5796</td>\n",
       "    </tr>\n",
       "    <tr>\n",
       "      <th>2023-01-21</th>\n",
       "      <td>528</td>\n",
       "      <td>528</td>\n",
       "      <td>528</td>\n",
       "      <td>528</td>\n",
       "    </tr>\n",
       "    <tr>\n",
       "      <th>2023-01-22</th>\n",
       "      <td>636</td>\n",
       "      <td>636</td>\n",
       "      <td>636</td>\n",
       "      <td>636</td>\n",
       "    </tr>\n",
       "    <tr>\n",
       "      <th>2023-01-23</th>\n",
       "      <td>1296</td>\n",
       "      <td>1296</td>\n",
       "      <td>1296</td>\n",
       "      <td>1296</td>\n",
       "    </tr>\n",
       "  </tbody>\n",
       "</table>\n",
       "</div>"
      ],
      "text/plain": [
       "            MEASUREMENT_TIME  ID_INPUT  VALUE  PRIVATE_DATA\n",
       "date                                                       \n",
       "2023-01-19              3372      3372   3372          3372\n",
       "2023-01-20              5796      5796   5796          5796\n",
       "2023-01-21               528       528    528           528\n",
       "2023-01-22               636       636    636           636\n",
       "2023-01-23              1296      1296   1296          1296"
      ]
     },
     "execution_count": 25,
     "metadata": {},
     "output_type": "execute_result"
    }
   ],
   "source": [
    "df.groupby('date').count()"
   ]
  },
  {
   "cell_type": "code",
   "execution_count": 26,
   "id": "32ac45c8",
   "metadata": {},
   "outputs": [
    {
     "data": {
      "text/html": [
       "<div>\n",
       "<style scoped>\n",
       "    .dataframe tbody tr th:only-of-type {\n",
       "        vertical-align: middle;\n",
       "    }\n",
       "\n",
       "    .dataframe tbody tr th {\n",
       "        vertical-align: top;\n",
       "    }\n",
       "\n",
       "    .dataframe thead th {\n",
       "        text-align: right;\n",
       "    }\n",
       "</style>\n",
       "<table border=\"1\" class=\"dataframe\">\n",
       "  <thead>\n",
       "    <tr style=\"text-align: right;\">\n",
       "      <th></th>\n",
       "      <th>MEASUREMENT_TIME</th>\n",
       "      <th>ID_INPUT</th>\n",
       "      <th>PRIVATE_DATA</th>\n",
       "      <th>date</th>\n",
       "    </tr>\n",
       "    <tr>\n",
       "      <th>VALUE</th>\n",
       "      <th></th>\n",
       "      <th></th>\n",
       "      <th></th>\n",
       "      <th></th>\n",
       "    </tr>\n",
       "  </thead>\n",
       "  <tbody>\n",
       "    <tr>\n",
       "      <th>.ipynb file is not opening on windows - Google Search - Google Chrome</th>\n",
       "      <td>1</td>\n",
       "      <td>1</td>\n",
       "      <td>1</td>\n",
       "      <td>1</td>\n",
       "    </tr>\n",
       "    <tr>\n",
       "      <th>16 Top-Rated Ski Resorts on the East Coast, 2023 | PlanetWare - Google Chrome</th>\n",
       "      <td>1</td>\n",
       "      <td>1</td>\n",
       "      <td>1</td>\n",
       "      <td>1</td>\n",
       "    </tr>\n",
       "    <tr>\n",
       "      <th>A$AP Rocky - Purity (feat. Frank Ocean)</th>\n",
       "      <td>1</td>\n",
       "      <td>1</td>\n",
       "      <td>1</td>\n",
       "      <td>1</td>\n",
       "    </tr>\n",
       "    <tr>\n",
       "      <th>A.pdf - Google Chrome</th>\n",
       "      <td>1</td>\n",
       "      <td>1</td>\n",
       "      <td>1</td>\n",
       "      <td>1</td>\n",
       "    </tr>\n",
       "    <tr>\n",
       "      <th>Administrator: Command Prompt</th>\n",
       "      <td>28</td>\n",
       "      <td>28</td>\n",
       "      <td>28</td>\n",
       "      <td>28</td>\n",
       "    </tr>\n",
       "    <tr>\n",
       "      <th>...</th>\n",
       "      <td>...</td>\n",
       "      <td>...</td>\n",
       "      <td>...</td>\n",
       "      <td>...</td>\n",
       "    </tr>\n",
       "    <tr>\n",
       "      <th>test-000093.db</th>\n",
       "      <td>1</td>\n",
       "      <td>1</td>\n",
       "      <td>1</td>\n",
       "      <td>1</td>\n",
       "    </tr>\n",
       "    <tr>\n",
       "      <th>uninstall apps windows 10 - Google Search - Google Chrome</th>\n",
       "      <td>1</td>\n",
       "      <td>1</td>\n",
       "      <td>1</td>\n",
       "      <td>1</td>\n",
       "    </tr>\n",
       "    <tr>\n",
       "      <th>what is a blob in python - Google Search - Google Chrome</th>\n",
       "      <td>4</td>\n",
       "      <td>4</td>\n",
       "      <td>4</td>\n",
       "      <td>4</td>\n",
       "    </tr>\n",
       "    <tr>\n",
       "      <th>when do i get Shell_TrayWnd returned - Google Search - Google Chrome</th>\n",
       "      <td>1</td>\n",
       "      <td>1</td>\n",
       "      <td>1</td>\n",
       "      <td>1</td>\n",
       "    </tr>\n",
       "    <tr>\n",
       "      <th>windows - Python command not working in command prompt - Stack Overflow - Google Chrome</th>\n",
       "      <td>4</td>\n",
       "      <td>4</td>\n",
       "      <td>4</td>\n",
       "      <td>4</td>\n",
       "    </tr>\n",
       "  </tbody>\n",
       "</table>\n",
       "<p>170 rows × 4 columns</p>\n",
       "</div>"
      ],
      "text/plain": [
       "                                                    MEASUREMENT_TIME  \\\n",
       "VALUE                                                                  \n",
       ".ipynb file is not opening on windows - Google ...                 1   \n",
       "16 Top-Rated Ski Resorts on the East Coast, 202...                 1   \n",
       "A$AP Rocky - Purity (feat. Frank Ocean)                            1   \n",
       "A.pdf - Google Chrome                                              1   \n",
       "Administrator: Command Prompt                                     28   \n",
       "...                                                              ...   \n",
       "test-000093.db                                                     1   \n",
       "uninstall apps windows 10 - Google Search - Goo...                 1   \n",
       "what is a blob in python - Google Search - Goog...                 4   \n",
       "when do i get Shell_TrayWnd returned - Google S...                 1   \n",
       "windows - Python command not working in command...                 4   \n",
       "\n",
       "                                                    ID_INPUT  PRIVATE_DATA  \\\n",
       "VALUE                                                                        \n",
       ".ipynb file is not opening on windows - Google ...         1             1   \n",
       "16 Top-Rated Ski Resorts on the East Coast, 202...         1             1   \n",
       "A$AP Rocky - Purity (feat. Frank Ocean)                    1             1   \n",
       "A.pdf - Google Chrome                                      1             1   \n",
       "Administrator: Command Prompt                             28            28   \n",
       "...                                                      ...           ...   \n",
       "test-000093.db                                             1             1   \n",
       "uninstall apps windows 10 - Google Search - Goo...         1             1   \n",
       "what is a blob in python - Google Search - Goog...         4             4   \n",
       "when do i get Shell_TrayWnd returned - Google S...         1             1   \n",
       "windows - Python command not working in command...         4             4   \n",
       "\n",
       "                                                    date  \n",
       "VALUE                                                     \n",
       ".ipynb file is not opening on windows - Google ...     1  \n",
       "16 Top-Rated Ski Resorts on the East Coast, 202...     1  \n",
       "A$AP Rocky - Purity (feat. Frank Ocean)                1  \n",
       "A.pdf - Google Chrome                                  1  \n",
       "Administrator: Command Prompt                         28  \n",
       "...                                                  ...  \n",
       "test-000093.db                                         1  \n",
       "uninstall apps windows 10 - Google Search - Goo...     1  \n",
       "what is a blob in python - Google Search - Goog...     4  \n",
       "when do i get Shell_TrayWnd returned - Google S...     1  \n",
       "windows - Python command not working in command...     4  \n",
       "\n",
       "[170 rows x 4 columns]"
      ]
     },
     "execution_count": 26,
     "metadata": {},
     "output_type": "execute_result"
    }
   ],
   "source": [
    "tab_app = df[df.ID_INPUT == 3]\n",
    "tab_app.groupby('VALUE').count()"
   ]
  },
  {
   "cell_type": "code",
   "execution_count": 27,
   "id": "1f4a1cc7",
   "metadata": {},
   "outputs": [
    {
     "data": {
      "text/plain": [
       "0                                               esrv.exe\n",
       "23                  Foreground - Microsoft Visual Studio\n",
       "33                                              esrv.exe\n",
       "39     How to Configure a C/C++ Project in VS - Googl...\n",
       "48                                              esrv.exe\n",
       "65                                             Messenger\n",
       "76                                              esrv.exe\n",
       "85                                                   sdk\n",
       "105                                             esrv.exe\n",
       "112    Public -- 2022-2023 (CCG DCA UCSD-HDSI Capston...\n",
       "123                                             esrv.exe\n",
       "141    How to Configure a C/C++ Project in VS - Googl...\n",
       "145                                               Search\n",
       "167                        Administrator: Command Prompt\n",
       "177    Installation - pip documentation v22.3.1 - Goo...\n",
       "191                        Administrator: Command Prompt\n",
       "195    Installation - pip documentation v22.3.1 - Goo...\n",
       "215                                             esrv.exe\n",
       "226                                             esrv.exe\n",
       "235                 Foreground - Microsoft Visual Studio\n",
       "Name: VALUE, dtype: object"
      ]
     },
     "execution_count": 27,
     "metadata": {},
     "output_type": "execute_result"
    }
   ],
   "source": [
    "tab_app['VALUE'][:20]"
   ]
  },
  {
   "cell_type": "code",
   "execution_count": null,
   "id": "58b2c545",
   "metadata": {},
   "outputs": [],
   "source": []
  }
 ],
 "metadata": {
  "kernelspec": {
   "display_name": "base",
   "language": "python",
   "name": "python3"
  },
  "language_info": {
   "codemirror_mode": {
    "name": "ipython",
    "version": 3
   },
   "file_extension": ".py",
   "mimetype": "text/x-python",
   "name": "python",
   "nbconvert_exporter": "python",
   "pygments_lexer": "ipython3",
   "version": "3.7.6 (default, Jan  8 2020, 20:23:39) [MSC v.1916 64 bit (AMD64)]"
  },
  "vscode": {
   "interpreter": {
    "hash": "ad2bdc8ecc057115af97d19610ffacc2b4e99fae6737bb82f5d7fb13d2f2c186"
   }
  }
 },
 "nbformat": 4,
 "nbformat_minor": 5
}
